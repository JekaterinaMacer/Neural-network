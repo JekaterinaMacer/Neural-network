{
 "cells": [
  {
   "cell_type": "markdown",
   "metadata": {
    "id": "vBvuSQtdCyPq"
   },
   "source": [
    "### Задание № 6\n",
    "\n",
    "\n",
    "#### Тема: Нейронные сети для решения задачи регрессии"
   ]
  },
  {
   "cell_type": "markdown",
   "metadata": {
    "id": "nqZpzs2nBs63"
   },
   "source": [
    "### Задание Ultra Lite"
   ]
  },
  {
   "cell_type": "markdown",
   "metadata": {},
   "source": [
    "Перепишите ноутбук по предсказанию стоимости квартир. Необходимо создать такую же нейронную сеть, как на лекции. При этом блок с парсингом можно не переписывать.\n",
    "\n",
    "Можно смотреть в ноутбук с занятия, но код необходимо писать самостоятельно. \n",
    " "
   ]
  },
  {
   "cell_type": "markdown",
   "metadata": {},
   "source": [
    "### Задание Lite\n",
    "\n",
    "\n"
   ]
  },
  {
   "cell_type": "markdown",
   "metadata": {},
   "source": [
    "Используя шаблон ноутбука, используйте базу квартир чтобы осуществить следующее следующее:\n",
    "\n",
    "Загрузить xTrain на числовых данных.\n",
    "\n",
    "Загрузить xTrainС из Примечаний (тексты).\n",
    "\n",
    "Создать словарь.\n",
    "\n",
    "Превратить xTrainC в формат bag of words (2000 самых популярных слов).\n",
    "\n",
    "Сделать нормирование данных.\n",
    "\n",
    "Написать нейронную сеть.\n"
   ]
  },
  {
   "cell_type": "markdown",
   "metadata": {},
   "source": [
    "### Задание Pro\n",
    "\n",
    "\n"
   ]
  },
  {
   "cell_type": "markdown",
   "metadata": {},
   "source": [
    "В одной из баз: hh или квартир, сделайте callback, который будет выводить на каждой эпохе следующее:\n",
    "\n",
    "Текущую mae.\n",
    "\n",
    "График mae по всем эпохам на обучающей и проверочной выборках.\n",
    "\n",
    "Текущий scatterplot, где отображаются предсказанные и истинные значения.\n",
    "\n",
    "Время обучения на эпохе, время обучения суммарное и сколько времени остаётся до конца обучения.\n",
    "\n",
    "Изменял бы шаг обучения, если начинается “пила” на графике ошибки (mae), или график выходит на плато.\n",
    "\n",
    "Сохраняет сеть с лучшей точностью в .h5 файл.\n",
    "\n",
    "*желательно использовать clear_output и verbose=0\n",
    "\n",
    "**callback должен быть самописный, нельзя использовать готовые"
   ]
  },
  {
   "cell_type": "markdown",
   "metadata": {},
   "source": [
    "### Задание Ultra pro\n",
    "\n",
    "\n"
   ]
  },
  {
   "cell_type": "markdown",
   "metadata": {},
   "source": [
    "Найдите любую базу, подходящую для регрессии:\n",
    "\n",
    "1. Сделайте парсинг и обработку данных.\n",
    "\n",
    "2. Разделите данные на обучающую и проверочную выборки\n",
    "\n",
    "3. Напишите сеть для регрессии\n",
    "\n",
    "4. Сделайте визуализацию результата\n",
    "\n",
    "5. Напишите ваши результаты и выводы"
   ]
  },
  {
   "cell_type": "markdown",
   "metadata": {
    "id": "qLX9aj3eFCPB"
   },
   "source": [
    "#### 1. Импорт библиотек."
   ]
  },
  {
   "cell_type": "code",
   "execution_count": 1,
   "metadata": {
    "id": "SkQ2zSVRR_De"
   },
   "outputs": [],
   "source": [
    "import numpy as np \n",
    "import pandas as pd\n",
    "from sklearn.model_selection import train_test_split \n",
    "from sklearn.metrics import mean_squared_error, mean_absolute_error \n",
    "import random  \n",
    "import math \n",
    "#import os  \n",
    "import re \n",
    "import matplotlib.pyplot as plt \n",
    "%matplotlib inline\n",
    "from tensorflow.keras.models import Sequential, Model \n",
    "from tensorflow.keras.layers import concatenate, Input, Dense, Dropout, BatchNormalization, Flatten \n",
    "from tensorflow.keras import utils #Используем для to_categoricall\n",
    "from tensorflow.keras.optimizers import Adam,Adadelta,SGD,Adagrad,RMSprop \n",
    "from tensorflow.keras.preprocessing.text import Tokenizer, text_to_word_sequence \n",
    "from tensorflow.keras.preprocessing.sequence import pad_sequences \n",
    "from tensorflow.keras.callbacks import LambdaCallback \n",
    "\n",
    "from sklearn.preprocessing import StandardScaler  \n",
    "from IPython.display import clear_output"
   ]
  },
  {
   "cell_type": "markdown",
   "metadata": {
    "id": "DQqa8snjeA7p"
   },
   "source": [
    "#### Оценка стоимости квартир\n",
    "\n"
   ]
  },
  {
   "cell_type": "code",
   "execution_count": 2,
   "metadata": {
    "id": "106DlPFbeKv9"
   },
   "outputs": [],
   "source": [
    "df = pd.read_csv('/Users/ekaterina/Desktop/LEARN/IT/УИИ/Введение в нейронные сети/6_moscow.csv', sep=\";\")\n",
    "df = df.iloc[::2,:] #Выбираем нечётные строки, в чётных строках в исходном фрейме пустые строки для комментариев\n",
    "data = df.values #Вытаскиваем данные в numpy array"
   ]
  },
  {
   "cell_type": "code",
   "execution_count": 3,
   "metadata": {
    "colab": {
     "base_uri": "https://localhost:8080/",
     "height": 669
    },
    "id": "GV510wy8ePuS",
    "outputId": "754ea2ee-d695-4c5a-a06f-61ac32bd4cc4"
   },
   "outputs": [
    {
     "data": {
      "text/html": [
       "<div>\n",
       "<style scoped>\n",
       "    .dataframe tbody tr th:only-of-type {\n",
       "        vertical-align: middle;\n",
       "    }\n",
       "\n",
       "    .dataframe tbody tr th {\n",
       "        vertical-align: top;\n",
       "    }\n",
       "\n",
       "    .dataframe thead th {\n",
       "        text-align: right;\n",
       "    }\n",
       "</style>\n",
       "<table border=\"1\" class=\"dataframe\">\n",
       "  <thead>\n",
       "    <tr style=\"text-align: right;\">\n",
       "      <th></th>\n",
       "      <th>Комнат</th>\n",
       "      <th>Метро / ЖД станции</th>\n",
       "      <th>От станции</th>\n",
       "      <th>Дом</th>\n",
       "      <th>Балкон</th>\n",
       "      <th>Санузел</th>\n",
       "      <th>Площадь</th>\n",
       "      <th>Цена, руб.</th>\n",
       "      <th>ГРМ</th>\n",
       "      <th>Бонус агенту</th>\n",
       "      <th>Дата</th>\n",
       "      <th>Кол-во дней в экспозиции</th>\n",
       "      <th>Источник</th>\n",
       "      <th>Примечание</th>\n",
       "    </tr>\n",
       "  </thead>\n",
       "  <tbody>\n",
       "    <tr>\n",
       "      <th>0</th>\n",
       "      <td>1</td>\n",
       "      <td>Шелепиха м.</td>\n",
       "      <td>12п</td>\n",
       "      <td>35/37 М</td>\n",
       "      <td>NaN</td>\n",
       "      <td>2</td>\n",
       "      <td>64.1/23/20</td>\n",
       "      <td>19500000.0</td>\n",
       "      <td>NaN</td>\n",
       "      <td>NaN</td>\n",
       "      <td>25.07.2019</td>\n",
       "      <td>1.0</td>\n",
       "      <td>Привлекательные</td>\n",
       "      <td>Собственность оформлена! Ключи на руках! Опера...</td>\n",
       "    </tr>\n",
       "    <tr>\n",
       "      <th>2</th>\n",
       "      <td>1</td>\n",
       "      <td>Пятницкое шоссе м.</td>\n",
       "      <td>30т</td>\n",
       "      <td>11/14 П</td>\n",
       "      <td>Л</td>\n",
       "      <td>Р</td>\n",
       "      <td>38.4/17/9</td>\n",
       "      <td>4800000.0</td>\n",
       "      <td>NaN</td>\n",
       "      <td>NaN</td>\n",
       "      <td>25.07.2019</td>\n",
       "      <td>2.0</td>\n",
       "      <td>Привлекательные</td>\n",
       "      <td>Зеленоград к.1820 однокомнатная квартира общ.3...</td>\n",
       "    </tr>\n",
       "    <tr>\n",
       "      <th>4</th>\n",
       "      <td>1</td>\n",
       "      <td>Планерная м.</td>\n",
       "      <td>5т</td>\n",
       "      <td>11/22 П</td>\n",
       "      <td>Б</td>\n",
       "      <td>С</td>\n",
       "      <td>38.2/19.9/9.9</td>\n",
       "      <td>7990000.0</td>\n",
       "      <td>NaN</td>\n",
       "      <td>NaN</td>\n",
       "      <td>25.07.2019</td>\n",
       "      <td>4.0</td>\n",
       "      <td>Привлекательные</td>\n",
       "      <td>Уютная, светлая квартира, застекленный балкон ...</td>\n",
       "    </tr>\n",
       "    <tr>\n",
       "      <th>6</th>\n",
       "      <td>1</td>\n",
       "      <td>Шаболовская м.</td>\n",
       "      <td>12п</td>\n",
       "      <td>8/12 ?</td>\n",
       "      <td>Б</td>\n",
       "      <td>Р</td>\n",
       "      <td>38/15/7</td>\n",
       "      <td>11200000.0</td>\n",
       "      <td>NaN</td>\n",
       "      <td>NaN</td>\n",
       "      <td>25.07.2019</td>\n",
       "      <td>7.0</td>\n",
       "      <td>Привлекательные</td>\n",
       "      <td>Предлагаю 1- комн квартиру, в шаговой доступно...</td>\n",
       "    </tr>\n",
       "    <tr>\n",
       "      <th>8</th>\n",
       "      <td>1</td>\n",
       "      <td>Бабушкинская м.</td>\n",
       "      <td>15п</td>\n",
       "      <td>4/14 П</td>\n",
       "      <td>NaN</td>\n",
       "      <td>С</td>\n",
       "      <td>34/17/8</td>\n",
       "      <td>6250000.0</td>\n",
       "      <td>NaN</td>\n",
       "      <td>NaN</td>\n",
       "      <td>25.07.2019</td>\n",
       "      <td>11.0</td>\n",
       "      <td>Привлекательные</td>\n",
       "      <td>Продается хорошая 1 комнатная квартира. 1 взро...</td>\n",
       "    </tr>\n",
       "    <tr>\n",
       "      <th>10</th>\n",
       "      <td>1</td>\n",
       "      <td>Шелепиха м.</td>\n",
       "      <td>15п</td>\n",
       "      <td>9/36 К</td>\n",
       "      <td>NaN</td>\n",
       "      <td>NaN</td>\n",
       "      <td>44/14.7/19.2</td>\n",
       "      <td>12700000.0</td>\n",
       "      <td>NaN</td>\n",
       "      <td>NaN</td>\n",
       "      <td>25.07.2019</td>\n",
       "      <td>11.0</td>\n",
       "      <td>Привлекательные</td>\n",
       "      <td>1-комн. квартира в ЖК \"Сердце столицы\" на 9 эт...</td>\n",
       "    </tr>\n",
       "    <tr>\n",
       "      <th>12</th>\n",
       "      <td>1</td>\n",
       "      <td>Улица Дмитриевского м.</td>\n",
       "      <td>2п</td>\n",
       "      <td>7/16 П</td>\n",
       "      <td>Л</td>\n",
       "      <td>Р</td>\n",
       "      <td>43/20/8</td>\n",
       "      <td>6500000.0</td>\n",
       "      <td>NaN</td>\n",
       "      <td>NaN</td>\n",
       "      <td>25.07.2019</td>\n",
       "      <td>14.0</td>\n",
       "      <td>Привлекательные</td>\n",
       "      <td>Предлагаю купить Однокомнатную квартиру с удоб...</td>\n",
       "    </tr>\n",
       "    <tr>\n",
       "      <th>14</th>\n",
       "      <td>1</td>\n",
       "      <td>Бульвар Рокоссовского м.</td>\n",
       "      <td>2п</td>\n",
       "      <td>2/5 К</td>\n",
       "      <td>Б</td>\n",
       "      <td>С</td>\n",
       "      <td>31/17/6</td>\n",
       "      <td>6000000.0</td>\n",
       "      <td>NaN</td>\n",
       "      <td>NaN</td>\n",
       "      <td>25.07.2019</td>\n",
       "      <td>15.0</td>\n",
       "      <td>Привлекательные</td>\n",
       "      <td>Теплая, светлая квартира с высоким потолком в ...</td>\n",
       "    </tr>\n",
       "    <tr>\n",
       "      <th>16</th>\n",
       "      <td>1</td>\n",
       "      <td>Марьина Роща м.</td>\n",
       "      <td>10п</td>\n",
       "      <td>7/14 П</td>\n",
       "      <td>2Б</td>\n",
       "      <td>NaN</td>\n",
       "      <td>38.9/20.9/8.5</td>\n",
       "      <td>8900000.0</td>\n",
       "      <td>NaN</td>\n",
       "      <td>NaN</td>\n",
       "      <td>25.07.2019</td>\n",
       "      <td>16.0</td>\n",
       "      <td>Привлекательные</td>\n",
       "      <td>Продается 1-комн. квартира, площадью 38.9 м2 в...</td>\n",
       "    </tr>\n",
       "    <tr>\n",
       "      <th>18</th>\n",
       "      <td>1</td>\n",
       "      <td>Марьино м.</td>\n",
       "      <td>20п</td>\n",
       "      <td>10/24 М-К</td>\n",
       "      <td>NaN</td>\n",
       "      <td>-</td>\n",
       "      <td>30.9/17.9/10</td>\n",
       "      <td>5999984.0</td>\n",
       "      <td>NaN</td>\n",
       "      <td>NaN</td>\n",
       "      <td>25.07.2019</td>\n",
       "      <td>16.0</td>\n",
       "      <td>Привлекательные</td>\n",
       "      <td>Предлагается уютная квартира в ЖК комфорт клас...</td>\n",
       "    </tr>\n",
       "  </tbody>\n",
       "</table>\n",
       "</div>"
      ],
      "text/plain": [
       "   Комнат        Метро / ЖД станции От станции        Дом Балкон Санузел  \\\n",
       "0       1               Шелепиха м.        12п    35/37 М    NaN       2   \n",
       "2       1        Пятницкое шоссе м.        30т    11/14 П      Л       Р   \n",
       "4       1              Планерная м.         5т    11/22 П      Б       С   \n",
       "6       1            Шаболовская м.        12п     8/12 ?      Б       Р   \n",
       "8       1           Бабушкинская м.        15п     4/14 П    NaN       С   \n",
       "10      1               Шелепиха м.        15п     9/36 К    NaN     NaN   \n",
       "12      1    Улица Дмитриевского м.         2п     7/16 П      Л       Р   \n",
       "14      1  Бульвар Рокоссовского м.         2п      2/5 К      Б       С   \n",
       "16      1           Марьина Роща м.        10п     7/14 П     2Б     NaN   \n",
       "18      1                Марьино м.        20п  10/24 М-К    NaN       -   \n",
       "\n",
       "          Площадь  Цена, руб.  ГРМ Бонус агенту        Дата  \\\n",
       "0      64.1/23/20  19500000.0  NaN          NaN  25.07.2019   \n",
       "2       38.4/17/9   4800000.0  NaN          NaN  25.07.2019   \n",
       "4   38.2/19.9/9.9   7990000.0  NaN          NaN  25.07.2019   \n",
       "6         38/15/7  11200000.0  NaN          NaN  25.07.2019   \n",
       "8         34/17/8   6250000.0  NaN          NaN  25.07.2019   \n",
       "10   44/14.7/19.2  12700000.0  NaN          NaN  25.07.2019   \n",
       "12        43/20/8   6500000.0  NaN          NaN  25.07.2019   \n",
       "14        31/17/6   6000000.0  NaN          NaN  25.07.2019   \n",
       "16  38.9/20.9/8.5   8900000.0  NaN          NaN  25.07.2019   \n",
       "18   30.9/17.9/10   5999984.0  NaN          NaN  25.07.2019   \n",
       "\n",
       "    Кол-во дней в экспозиции         Источник  \\\n",
       "0                        1.0  Привлекательные   \n",
       "2                        2.0  Привлекательные   \n",
       "4                        4.0  Привлекательные   \n",
       "6                        7.0  Привлекательные   \n",
       "8                       11.0  Привлекательные   \n",
       "10                      11.0  Привлекательные   \n",
       "12                      14.0  Привлекательные   \n",
       "14                      15.0  Привлекательные   \n",
       "16                      16.0  Привлекательные   \n",
       "18                      16.0  Привлекательные   \n",
       "\n",
       "                                           Примечание  \n",
       "0   Собственность оформлена! Ключи на руках! Опера...  \n",
       "2   Зеленоград к.1820 однокомнатная квартира общ.3...  \n",
       "4   Уютная, светлая квартира, застекленный балкон ...  \n",
       "6   Предлагаю 1- комн квартиру, в шаговой доступно...  \n",
       "8   Продается хорошая 1 комнатная квартира. 1 взро...  \n",
       "10  1-комн. квартира в ЖК \"Сердце столицы\" на 9 эт...  \n",
       "12  Предлагаю купить Однокомнатную квартиру с удоб...  \n",
       "14  Теплая, светлая квартира с высоким потолком в ...  \n",
       "16  Продается 1-комн. квартира, площадью 38.9 м2 в...  \n",
       "18  Предлагается уютная квартира в ЖК комфорт клас...  "
      ]
     },
     "execution_count": 3,
     "metadata": {},
     "output_type": "execute_result"
    }
   ],
   "source": [
    "df.head(10) "
   ]
  },
  {
   "cell_type": "code",
   "execution_count": 4,
   "metadata": {
    "colab": {
     "base_uri": "https://localhost:8080/",
     "height": 85
    },
    "id": "aPA51b_SkzxN",
    "outputId": "8216becf-62d5-4a73-84d0-b79511f1dfb7"
   },
   "outputs": [
    {
     "name": "stdout",
     "output_type": "stream",
     "text": [
      "Index(['Комнат', 'Метро / ЖД станции', 'От станции', 'Дом', 'Балкон',\n",
      "       'Санузел', 'Площадь', 'Цена, руб.', 'ГРМ', 'Бонус агенту', 'Дата',\n",
      "       'Кол-во дней в экспозиции', 'Источник', 'Примечание'],\n",
      "      dtype='object')\n"
     ]
    }
   ],
   "source": [
    "print(df.columns)"
   ]
  },
  {
   "cell_type": "markdown",
   "metadata": {
    "id": "qVeq3Wdnk3Px"
   },
   "source": [
    "#### Функции парсинга"
   ]
  },
  {
   "cell_type": "code",
   "execution_count": 5,
   "metadata": {
    "id": "-YPk-2eFk_O0"
   },
   "outputs": [],
   "source": [
    "#Во всех функция дальше\n",
    "#d - описание квартиры, одна строка из data1\n",
    "\n",
    "#Вычисляем количество комнат\n",
    "#maxRoomCount - максимальное число комнат в квартире\n",
    "def getRoomsCount(d, maxRoomCount):\n",
    "  roomsCountStr = d[0] #Получаем строку с числом комнат\n",
    "\n",
    "  roomsCount = 0\n",
    "  try:\n",
    "    roomsCount = int(roomsCountStr) #Пробуем превратить строку в число\n",
    "    if (roomsCount > maxRoomCount): \n",
    "      roomsCount = maxRoomCount #Если число комнат больше максимального, то присваиваем максимальное\n",
    "  except: #Если не получается превратить строку в число\n",
    "    if (roomsCountStr == roomsCountStr): #Проверяем строку на nan (сравнение с самим собой)\n",
    "      if (\"Ст\" in roomsCountStr): #Еcть строка = \"Ст\", значит это Студия\n",
    "        roomsCount = maxRoomCount + 1\n",
    "\n",
    "  return roomsCount\n",
    "\n",
    "#Превращаем число комнат в категорию\n",
    "def getRoomsCountCategory(d, maxRoomCount):\n",
    "  roomsCount = getRoomsCount(d, maxRoomCount) #Получаем число комнат\n",
    "  roomsCount = utils.to_categorical(roomsCount, maxRoomCount+2) #Превращаем в категорию\n",
    "  #maxRoomCount+2 потому что 0 зарезервирован на неопознаное число комнат, а maxRoomCount+1 на \"Студию\"\n",
    "  return roomsCount\n",
    "\n",
    "#Получаем индекс станции метро\n",
    "#allMetroNames - все уникальные названия метро в базе\n",
    "def getMetro(d, allMetroNames):\n",
    "  metroStr = d[1] #Получаем строку метро\n",
    "  metro = 0\n",
    "  \n",
    "  if (metroStr in allMetroNames): #Если находим метро во всех названиях\n",
    "    metro = allMetroNames.index(metroStr)+1 #Присваиваем индекс\n",
    "    #+1 так как 0 зарезервирован на неопознанное метро\n",
    "    \n",
    "  return metro\n",
    "\n",
    "#Получаем тип метро\n",
    "#0 - внутри кольца\n",
    "#1 - кольцо\n",
    "#2 - 1-3 станции от конца\n",
    "#3 - 4-8 станций от кольца\n",
    "#4 - больше 8 станций от кольца\n",
    "def getMetroType(d):\n",
    "  metroTypeStr = d[1] #Получаем строку метро\n",
    "  metroTypeClasses = 5 #Число классов метро\n",
    "  metroType = metroTypeClasses - 1 #Изначально считаем последний класс\n",
    "  \n",
    "  #Метро внутри кольца\n",
    "  metroNamesInsideCircle = [\"Площадь Революции\", \"Арбатская\", \"Смоленская\", \"Красные Ворота\", \"Чистые пруды\", \"Лубянка\", \"Охотный Ряд\", \"Библиотека имени Ленина\", \"Кропоткинская\", \"Сухаревская\", \"Тургеневская\", \"Китай-город\", \"Третьяковская\", \"Трубная\", \"Сретенский бульвар\", \"Цветной бульвар\", \"Чеховская\", \"Боровицкая\", \"Полянка\", \"Маяковская\", \"Тверская\", \"Театральная\", \"Новокузнецкая\", \"Пушкинская\", \"Кузнецкий Мост\", \"Китай-город\", \"Александровский сад\"]\n",
    "  #Метро на кольце\n",
    "  metroNamesCircle = [\"Киевская\", \"Парк Культуры\", \"Октябрьская\", \"Добрынинская\", \"Павелецкая\", \"Таганская\", \"Курская\", \"Комсомольская\", \"Проспект Мира\", \"Новослободская\", \"Белорусская\", \"Краснопресненская\"]\n",
    "  #Метро 1-3 станции от кольца\n",
    "  metroNames13FromCircle = [\"Бауманская\", \"Электрозаводская\", \"Семёновская\", \"Площадь Ильича\", \"Авиамоторная\", \"Шоссе Энтузиастов\", \"Римская\", \"Крестьянская Застава\", \"Дубровка\", \"Пролетарская\", \"Волгоградский проспект\", \"Текстильщики\", \"Автозаводская\", \"Технопарк\", \"Коломенская\", \"Тульская\", \"Нагатинская\", \"Нагорная\", \"Шаболовская\", \"Ленинский проспект\", \"Академическая\", \"Фрунзенская\", \"Спортивная\", \"Воробьёвы горы\", \"Студенческая\", \"Кутузовская\", \"Фили\", \"Парк Победы\", \"Выставочная\", \"Международная\", \"Улица 1905 года\", \"Беговая\", \"Полежаевская\", \"Динамо\", \"Аэропорт\", \"Сокол\", \"Деловой центр\", \"Шелепиха\", \"Хорошёвская\", \"ЦСКА\", \"Петровский парк\", \"Савёловская\", \"Дмитровская\", \"Тимирязевская\", \"Достоевская\", \"Марьина Роща\", \"Бутырская\", \"Фонвизинская\", \"Рижская\", \"Алексеевская\", \"ВДНХ\", \"Красносельская\", \"Сокольники\", \"Преображенская площадь\"]\n",
    "  #Метро 4-8 станций от кольа\n",
    "  metroNames48FromCircle = [\"Партизанская\", \"Измайловская\", \"Первомайская\", \"Щёлковская\", \"Новокосино\", \"Новогиреево\", \"Перово\", \"Кузьминки\", \"Рязанский проспект\", \"Выхино\", \"Лермонтовский проспект\", \"Жулебино\", \"Партизанская\", \"Измайловская\", \"Первомайская\", \"Щёлковская\", \"Новокосино\", \"Новогиреево\", \"Перово\", \"Кузьминки\", \"Рязанский проспект\", \"Выхино\", \"Лермонтовский проспект\", \"Жулебино\", \"Улица Дмитриевского\", \"Кожуховская\", \"Печатники\", \"Волжская\", \"Люблино\", \"Братиславская\", \"Коломенская\", \"Каширская\", \"Кантемировская\", \"Царицыно\", \"Орехово\", \"Севастопольская\", \"Чертановская\", \"Южная\", \"Пражская\", \"Варшавская\", \"Профсоюзная\", \"Новые Черёмушки\", \"Калужская\", \"Беляево\", \"Коньково\", \"Университет\", \"Багратионовская\", \"Филёвский парк\", \"Пионерская\", \"Кунцевская\", \"Молодёжная\", \"Октябрьское Поле\", \"Щукинская\", \"Спартак\", \"Тушинская\", \"Сходненская\", \"Войковская\", \"Водный стадион\", \"Речной вокзал\", \"Беломорская\", \"Ховрино\", \"Петровско-Разумовская\", \"Владыкино\", \"Отрадное\", \"Бибирево\", \"Алтуфьево\", \"Фонвизинская\", \"Окружная\", \"Верхние Лихоборы\", \"Селигерская\", \"ВДНХ\", \"Ботанический сад\", \"Свиблово\", \"Бабушкинская\", \"Медведково\", \"Преображенская площадь\", \"Черкизовская\", \"Бульвар Рокоссовского\"]\n",
    "  \n",
    "  #Проверяем, в какую категорию попадает наша станция\n",
    "  if (metroTypeStr in metroNamesInsideCircle):\n",
    "    metroType = 0\n",
    "  if (metroTypeStr in metroNamesCircle):\n",
    "    metroType = 1\n",
    "  if (metroTypeStr in metroNames13FromCircle):\n",
    "    metroType = 2\n",
    "  if (metroTypeStr in metroNames48FromCircle):\n",
    "    metroType = 3\n",
    "  \n",
    "  #Превращаем результат в категорию\n",
    "  metroType = utils.to_categorical(metroType, metroTypeClasses)\n",
    "  return metroType\n",
    "\n",
    "\n",
    "#Вычисляем растояние до метро\n",
    "def getMetroDistance(d):\n",
    "  metroDistanceStr = d[2] #Получаем строку\n",
    "  \n",
    "  metroDistance = 0 #Расстояние до метро\n",
    "  metroDistanceType = 0 #Тип расстояния - пешком или на транспорте\n",
    "  \n",
    "  #ЕСли строка не равна nan  \n",
    "  if (metroDistanceStr == metroDistanceStr):\n",
    "    if (len(metroDistanceStr) > 0):\n",
    "      #Определяем тип расстояния\n",
    "      if (metroDistanceStr[-1] == \"п\"):\n",
    "        metroDistanceType = 1 #Пешком\n",
    "      elif (metroDistanceStr[-1] == \"т\"):\n",
    "        metroDistanceType = 2 #На транспорте\n",
    "\n",
    "      #Выбрасываем последний символ, чтобы осталось только число\n",
    "      metroDistanceStr = metroDistanceStr[:-1]\n",
    "      try:\n",
    "        #Разделяем дистанции на категории\n",
    "        metroDistance = int(metroDistanceStr)\n",
    "        if (metroDistance < 3):\n",
    "          metroDistance = 1\n",
    "        elif (metroDistance < 6):\n",
    "          metroDistance = 2\n",
    "        elif (metroDistance < 10):\n",
    "          metroDistance = 3\n",
    "        elif (metroDistance < 15):\n",
    "          metroDistance = 4\n",
    "        elif (metroDistance < 20):\n",
    "          metroDistance = 5\n",
    "        else:\n",
    "          metroDistance = 6\n",
    "      except: #Если в строке не число, то категория 0\n",
    "        metroDistance = 0\n",
    "  \n",
    "  #Число классов дистанции\n",
    "  metroDistanceClasses = 7\n",
    "  \n",
    "  #У нас 7 категорий дистанции по расстоянию\n",
    "  #И 3 типа дистанции - неопознанный, пешком и транспортом\n",
    "  #Мы создадим вектор длины 3*7 = 21\n",
    "  #Будем преобразовывать индекс расстояния 0-6 в 0-20\n",
    "  #Для типа \"Пешком\" - ничего не меняем\n",
    "  if (metroDistanceType == 2):\n",
    "    metroDistance += metroDistanceClasses #Для типа \"Транспортом\" добавляем 7\n",
    "  if (metroDistanceType == 0):\n",
    "    metroDistance += 2*metroDistanceClasses #Для неопознанного типа добавляем 14\n",
    "    \n",
    "  #Превращаем в категории\n",
    "  metroDistance = utils.to_categorical(metroDistance, 3*metroDistanceClasses)\n",
    "  return metroDistance\n",
    "\n",
    "#Получаем 4 данных\n",
    "#- этаж квартиры\n",
    "#- этажность дома\n",
    "#- индикатор, что последний этаж\n",
    "#- тип дома\n",
    "def getHouseTypeAndFloor(d):\n",
    "  try:\n",
    "    houseStr = d[3] #Получаем строку типа дома и этажей\n",
    "  except:\n",
    "    houseStr = \"\"\n",
    "  \n",
    "  houseType = 0 #Тип дома\n",
    "  floor = 0 #Этаж квартиры\n",
    "  floors = 0 #Этажность дома\n",
    "  isLastFloor = 0 #Индикатор последнего этажа\n",
    "  \n",
    "  #Проверяем строку на nan\n",
    "  if (houseStr == houseStr):\n",
    "    if (len(houseStr) > 1):\n",
    "    \n",
    "      try:\n",
    "        slashIndex = houseStr.index(\"/\") #Ищем разделитель /\n",
    "      except:\n",
    "        print(houseStr)\n",
    "\n",
    "      try:\n",
    "        spaceIndex = houseStr.index(\" \") #Ищем разделитель \" \"\n",
    "      except:\n",
    "        print(houseStr)\n",
    "\n",
    "      #Вытаскиваем строки\n",
    "      floorStr = houseStr[:slashIndex] #Строка этажа\n",
    "      floorsStr = houseStr[slashIndex+1:spaceIndex] #Строка этажнгости дома\n",
    "      houseTypeStr = houseStr[spaceIndex+1:] #Строка типа дома\n",
    "\n",
    "      #Выбираем категорию этажа\n",
    "      try:\n",
    "        floor = int(floorStr) #Превращаем строку в число\n",
    "        floorSave = floor\n",
    "        if (floorSave < 5):\n",
    "          floor = 2\n",
    "        if (floorSave < 10):\n",
    "          floor = 3\n",
    "        if (floorSave < 20):\n",
    "          floor = 4\n",
    "        if (floorSave >= 20):\n",
    "          floor = 5\n",
    "        if (floorSave == 1): #Первый этаж выделяем в отдельную категорию\n",
    "          floor = 1 \n",
    "\n",
    "        if (int(floorStr) == int(floorsStr)): #Если этаж последний, включаем индикатор последнего этажа\n",
    "          isLastFloor = 1 \n",
    "      except:\n",
    "        floor = 0 #Если строка не парсится в число, то категория этажа = 0 (отдельная)\n",
    "\n",
    "      #Выбираем категорию этажности дома\n",
    "      try:\n",
    "        floors = int(floorsStr) #Превращаем строку в число\n",
    "        floorsSave = floors\n",
    "        if (floorsSave < 5):\n",
    "          floors = 1\n",
    "        if (floorsSave < 10):\n",
    "          floors = 2\n",
    "        if (floorsSave < 20):\n",
    "          floors = 3\n",
    "        if (floorsSave >= 20):\n",
    "          floors = 4\n",
    "      except:\n",
    "        floors = 0 #Если строка не парсится в число, то категория этажности = 0 (отдельная)\n",
    "\n",
    "      #Определяем категорию типа дома\n",
    "      if (len(houseTypeStr) > 0):\n",
    "        if (\"М\" in houseTypeStr): \n",
    "          houseType = 1\n",
    "        if (\"К\" in houseTypeStr): \n",
    "          houseType = 2\n",
    "        if (\"П\" in houseTypeStr): \n",
    "          houseType = 3\n",
    "        if (\"Б\" in houseTypeStr): \n",
    "          houseType = 4\n",
    "        if (\"?\" in houseTypeStr): \n",
    "          houseType = 5\n",
    "        if (\"-\" in houseTypeStr): \n",
    "          houseType = 6\n",
    "    \n",
    "    #Превращаем все категории в one hot encoding\n",
    "    floor = utils.to_categorical(floor, 6)\n",
    "    floors = utils.to_categorical(floors, 5)\n",
    "    houseType = utils.to_categorical(houseType, 7)\n",
    "    \n",
    "    \n",
    "  return floor, floors, isLastFloor, houseType\n",
    "\n",
    "\n",
    "#Вычисляем тип балкона\n",
    "def getBalcony(d):\n",
    "  balconyStr = d[4] #Полуаем строку\n",
    "  #Выписываем все варианты балконов в базе\n",
    "  balconyVariants = ['Л', 'Б', '2Б', '-', '2Б2Л', 'БЛ', '3Б', '2Л', 'Эрк', 'Б2Л', 'ЭркЛ', '3Л', '4Л', '*Л', '*Б']\n",
    "  #Проверяем на nan\n",
    "  if (balconyStr == balconyStr):\n",
    "    balcony = balconyVariants.index(balconyStr)+1 #Находим индекс строки балкона во всех строках\n",
    "  else:\n",
    "    balcony = 0 #Индекс 0 выделяем на строку nan\n",
    "  \n",
    "  #Превращаем в one hot encoding\n",
    "  balcony = utils.to_categorical(balcony, 16)\n",
    "  \n",
    "  return balcony\n",
    "\n",
    "#Определяем тип санузла\n",
    "def getWC(d):\n",
    "  wcStr = d[5] #Получаем строку\n",
    "  #Выписываем все варианты санузлов в базе\n",
    "  wcVariants = ['2', 'Р', 'С', '-', '2С', '+', '4Р', '2Р', '3С', '4С', '4', '3', '3Р']\n",
    "  #Проверяем на nan\n",
    "  if (wcStr == wcStr):\n",
    "    wc = wcVariants.index(wcStr)+1 #Находим индекс строки санузла во всех строках\n",
    "  else:\n",
    "    wc = 0 #Индекс 0 выделяем на строку nan\n",
    "  \n",
    "  #Превращаем в one hot encoding\n",
    "  wc = utils.to_categorical(wc, 14)\n",
    "  \n",
    "  return wc\n",
    "\n",
    "#Определяем площадь\n",
    "def getArea(d):\n",
    "  areaStr = d[6] #Поулачем строку площади\n",
    "  \n",
    "  if (\"/\" in areaStr):\n",
    "    slashIndex = areaStr.index(\"/\") #Находим разделитель /\n",
    "    try:\n",
    "      area = float(areaStr[:slashIndex]) #Берём число до разделителя и превращаем в число\n",
    "    except:\n",
    "      area = 0 #Если не получается, возвращаем 0\n",
    "  else:\n",
    "    area = 0 #Или если нет разделителя, возвращаем 0\n",
    "    \n",
    "  return area\n",
    "\n",
    "#Получаем цену\n",
    "def getCost(d):\n",
    "  costStr = d[7] #Загружаем строку\n",
    "  \n",
    "  try:\n",
    "    cost = float(costStr) #Пробуем превратить в число\n",
    "  except:\n",
    "    cost = 0 #Если не получается, возвращаем 0\n",
    "  \n",
    "  return cost\n",
    "\n",
    "#Получаем комментарий\n",
    "def getComment(d):\n",
    "  commentStr = d[-1] #Возвращаем данные из последней колонки\n",
    "  \n",
    "  return commentStr\n",
    "\n",
    "#Объединяем все числовые параметры вместе\n",
    "def getAllParameters(d, allMetroNames):\n",
    "  #Загружаем все данные по отдельности\n",
    "  roomsCountType = getRoomsCountCategory(d, 30)\n",
    "  metro = getMetro(d, allMetroNames)\n",
    "  metroType = getMetroType(d)\n",
    "  metroDistance = getMetroDistance(d)\n",
    "  floor, floors, isLastFloor, houseType = getHouseTypeAndFloor(d)\n",
    "  balcony = getBalcony(d)\n",
    "  wc = getWC(d)\n",
    "  area = getArea(d)\n",
    "\n",
    "  #Объединяем в один лист\n",
    "  out = list(roomsCountType)\n",
    "  out.append(metro)\n",
    "  out.extend(metroType)\n",
    "  out.extend(metroDistance)\n",
    "  out.extend(floor)\n",
    "  out.extend(floors)\n",
    "  out.append(isLastFloor)\n",
    "  out.extend(houseType)\n",
    "  out.extend(balcony)\n",
    "  out.extend(wc)\n",
    "  out.append(area)\n",
    "  \n",
    "  return out\n",
    "\n",
    "#Генерируем обучающаюу выборку - xTrain\n",
    "def getXTrain(data):\n",
    "  \n",
    "  #Получаем строку во всеми вариантами метро\n",
    "  allMertroNames = list(df[\"Метро / ЖД станции\"].unique())\n",
    "  \n",
    "  #Всевращаем все строки в data1 в векторы параметров и записываем в xTrain\n",
    "  xTrain = [getAllParameters(d, allMertroNames) for d in data]\n",
    "  xTrain = np.array(xTrain)\n",
    "  \n",
    "  return xTrain\n",
    "\n",
    "#Генерируем обучающую выборку - yTrain\n",
    "def getYTrain(data):\n",
    "  \n",
    "  #Зашружаем лист всех цен квартир по всем строкам data1\n",
    "  costList = [getCost(d) for d in data] \n",
    "  yTrain = np.array(costList)\n",
    "  \n",
    "  return yTrain"
   ]
  },
  {
   "cell_type": "markdown",
   "metadata": {
    "id": "Zn7GMVQylEJD"
   },
   "source": [
    "#### Формируем обучающую выборку"
   ]
  },
  {
   "cell_type": "code",
   "execution_count": 6,
   "metadata": {
    "colab": {
     "base_uri": "https://localhost:8080/",
     "height": 51
    },
    "id": "tI264SxulKm8",
    "outputId": "d22ed7ab-e676-4597-d2c7-75e6d2e40113"
   },
   "outputs": [
    {
     "name": "stdout",
     "output_type": "stream",
     "text": [
      "(126268, 14)\n",
      "(62504, 14)\n"
     ]
    }
   ],
   "source": [
    "oneRoomMask = [getRoomsCount(d, 30) == 1 for d in data] #Делаем маску однокомнатных квартир, принцип (getRoomsCount(d, 30) == 1)\n",
    "data1 = data[oneRoomMask] #В data1 оставляем только однокомнатные квартиры\n",
    "print(data.shape)\n",
    "print(data1.shape)"
   ]
  },
  {
   "cell_type": "code",
   "execution_count": 7,
   "metadata": {
    "id": "PoVLJhXXlLNL"
   },
   "outputs": [],
   "source": [
    "xTrain = getXTrain(data1)\n",
    "yTrain = getYTrain(data1)"
   ]
  },
  {
   "cell_type": "code",
   "execution_count": 8,
   "metadata": {
    "colab": {
     "base_uri": "https://localhost:8080/",
     "height": 34
    },
    "id": "fs9C_HDFa_n9",
    "outputId": "d1f545bc-5ace-4c3a-fe87-9c66edccb7a3"
   },
   "outputs": [
    {
     "name": "stdout",
     "output_type": "stream",
     "text": [
      "(62504, 109)\n"
     ]
    }
   ],
   "source": [
    "print(xTrain.shape)"
   ]
  },
  {
   "cell_type": "markdown",
   "metadata": {
    "id": "t6Qo4UKqldyH"
   },
   "source": [
    "#### Собираем xTrain по текстам"
   ]
  },
  {
   "cell_type": "code",
   "execution_count": 10,
   "metadata": {
    "id": "r7lXRfXMlkJW"
   },
   "outputs": [
    {
     "name": "stderr",
     "output_type": "stream",
     "text": [
      "<ipython-input-9-44272b03542f>:167: VisibleDeprecationWarning: Creating an ndarray from ragged nested sequences (which is a list-or-tuple of lists-or-tuples-or ndarrays with different lengths or shapes) is deprecated. If you meant to do this, you must specify 'dtype=object' when creating the ndarray\n",
      "  xTrainCommentsIndexes = np.array(xTrainCommentsIndexes)\n"
     ]
    }
   ],
   "source": [
    "xTrainC, allTextComments = getXTrainComments(data1) #Создаём обучающую выборку по текстам и большо текст для словаря\n",
    "allWords = text2Words(allTextComments) #Собираем полный текст в слова\n",
    "allWords = allWords[::10] #Берём 10% слов (иначе словарь слишком долго формируется)\n",
    "vocabulary = createVocabulary(allWords) #Создаём словарь\n",
    "xTrainC01 = changeSetToIndexes(xTrainC, vocabulary, 2000) #Преобразеум xTrain в bag of words"
   ]
  },
  {
   "cell_type": "code",
   "execution_count": 11,
   "metadata": {
    "colab": {
     "base_uri": "https://localhost:8080/",
     "height": 68
    },
    "id": "93o_A_qTlrki",
    "outputId": "9e13f6d1-9763-43df-b4e4-c179f5ad07b3"
   },
   "outputs": [
    {
     "name": "stdout",
     "output_type": "stream",
     "text": [
      "(62504, 109)\n",
      "(62504, 2000)\n",
      "(62504,)\n"
     ]
    }
   ],
   "source": [
    "#Выводим раземры обучающей выборки\n",
    "#Чтобы проверить, что мы всё правильно собрали\n",
    "print(xTrain.shape)\n",
    "print(xTrainC01.shape)\n",
    "print(yTrain.shape)"
   ]
  },
  {
   "cell_type": "markdown",
   "metadata": {
    "id": "7pgWTHEqlvdF"
   },
   "source": [
    "#### Нормирование данных"
   ]
  },
  {
   "cell_type": "code",
   "execution_count": 12,
   "metadata": {
    "colab": {
     "base_uri": "https://localhost:8080/",
     "height": 493
    },
    "id": "wjRDPgdMlzg8",
    "outputId": "903b414a-4c6a-4f93-81a9-dfbade156a8f"
   },
   "outputs": [
    {
     "name": "stdout",
     "output_type": "stream",
     "text": [
      "(62504, 109)\n",
      "[ 0.   1.   0.   0.   0.   0.   0.   0.   0.   0.   0.   0.   0.   0.\n",
      "  0.   0.   0.   0.   0.   0.   0.   0.   0.   0.   0.   0.   0.   0.\n",
      "  0.   0.   0.   0.   1.   0.   0.   0.   0.   1.   0.   0.   0.   0.\n",
      "  1.   0.   0.   0.   0.   0.   0.   0.   0.   0.   0.   0.   0.   0.\n",
      "  0.   0.   0.   0.   0.   0.   0.   0.   1.   0.   0.   0.   0.   1.\n",
      "  0.   0.   1.   0.   0.   0.   0.   0.   1.   0.   0.   0.   0.   0.\n",
      "  0.   0.   0.   0.   0.   0.   0.   0.   0.   0.   0.   1.   0.   0.\n",
      "  0.   0.   0.   0.   0.   0.   0.   0.   0.   0.  64.1]\n",
      "[0.         1.         0.         0.         0.         0.\n",
      " 0.         0.         0.         0.         0.         0.\n",
      " 0.         0.         0.         0.         0.         0.\n",
      " 0.         0.         0.         0.         0.         0.\n",
      " 0.         0.         0.         0.         0.         0.\n",
      " 0.         0.         1.         0.         0.         0.\n",
      " 0.         1.         0.         0.         0.         0.\n",
      " 1.         0.         0.         0.         0.         0.\n",
      " 0.         0.         0.         0.         0.         0.\n",
      " 0.         0.         0.         0.         0.         0.\n",
      " 0.         0.         0.         0.         1.         0.\n",
      " 0.         0.         0.         1.         0.         0.\n",
      " 1.         0.         0.         0.         0.         0.\n",
      " 1.         0.         0.         0.         0.         0.\n",
      " 0.         0.         0.         0.         0.         0.\n",
      " 0.         0.         0.         0.         0.         1.\n",
      " 0.         0.         0.         0.         0.         0.\n",
      " 0.         0.         0.         0.         0.         0.\n",
      " 1.28438086]\n"
     ]
    }
   ],
   "source": [
    "#Нормируем размер квартиры в xTrain\n",
    "xScaler = StandardScaler() #Создаём нормировщик нормальным распределением\n",
    "xScaler.fit(xTrain[:,-1].reshape(-1, 1)) #Обучаем его на площадях квартир \n",
    "xTrainScaled = xTrain.copy()\n",
    "xTrainScaled[:,-1] = xScaler.transform(xTrain[:,-1].reshape(-1, 1)).flatten() #Нормируем данные нормировщиком\n",
    "\n",
    "#Выводим размер и два примера для сравнения\n",
    "#Не нормированных данных и нормированных\n",
    "print(xTrainScaled.shape)\n",
    "print(xTrain[0])\n",
    "print(xTrainScaled[0])"
   ]
  },
  {
   "cell_type": "code",
   "execution_count": 13,
   "metadata": {
    "colab": {
     "base_uri": "https://localhost:8080/",
     "height": 68
    },
    "id": "3v3KXrjLl0Qr",
    "outputId": "168ab9f5-b29e-4b71-b0b1-b79e9226f2fa"
   },
   "outputs": [
    {
     "name": "stdout",
     "output_type": "stream",
     "text": [
      "(62504, 1)\n",
      "19500000.0\n",
      "[0.45013]\n"
     ]
    }
   ],
   "source": [
    "#Нормируем выход сети - цену квартиры\n",
    "yScaler = StandardScaler() #Делаемнормальный нормировщик\n",
    "yScaler.fit(yTrain.reshape(-1, 1)) #Обучаем на ценах квартир\n",
    "yTrainScaled = yScaler.transform(yTrain.reshape(-1, 1)) #Нормируем цены квартир\n",
    "\n",
    "#Выводим размер и два примера для сравнения\n",
    "#Не нормированных данных и нормированных\n",
    "print(yTrainScaled.shape)\n",
    "print(yTrain[0])\n",
    "print(yTrainScaled[0])"
   ]
  },
  {
   "cell_type": "code",
   "execution_count": 14,
   "metadata": {
    "colab": {
     "base_uri": "https://localhost:8080/",
     "height": 51
    },
    "id": "ZELuSkwUbuGu",
    "outputId": "9a2825d9-9622-4188-f060-71cc03900bba"
   },
   "outputs": [
    {
     "name": "stdout",
     "output_type": "stream",
     "text": [
      "1500000.0 3000000015.0\n",
      "[-0.3458729] [132.25494456]\n"
     ]
    }
   ],
   "source": [
    "print(min(yTrain), max(yTrain))\n",
    "print(min(yTrainScaled), max(yTrainScaled))"
   ]
  },
  {
   "cell_type": "markdown",
   "metadata": {
    "id": "PZAhclqgl_XP"
   },
   "source": [
    "#### Формируем проверочную выборку"
   ]
  },
  {
   "cell_type": "code",
   "execution_count": 15,
   "metadata": {
    "id": "FQtsSlVFl8qK"
   },
   "outputs": [],
   "source": [
    "splitVal = 0.2 #Процент, который выделяем в проверочную выборку\n",
    "valMask = np.random.sample(xTrainScaled.shape[0]) < splitVal #Создаём маску True-False для создания проверочной выборки"
   ]
  },
  {
   "cell_type": "code",
   "execution_count": 17,
   "metadata": {
    "id": "pn-DuwhittDJ"
   },
   "outputs": [],
   "source": [
    "np.save('/Users/ekaterina/Desktop/LEARN/IT/УИИ/Введение в нейронные сети/6_xTrainScaled',xTrainScaled)\n",
    "np.save('/Users/ekaterina/Desktop/LEARN/IT/УИИ/Введение в нейронные сети/6_xTrainC01',xTrainC01)\n",
    "np.save('/Users/ekaterina/Desktop/LEARN/IT/УИИ/Введение в нейронные сети/6_yTrainScaled',yTrainScaled)"
   ]
  },
  {
   "cell_type": "markdown",
   "metadata": {
    "id": "VMjVNXbkmFv8"
   },
   "source": [
    "#### Нейронка"
   ]
  },
  {
   "cell_type": "code",
   "execution_count": 18,
   "metadata": {
    "id": "1CFLXvsjmJWo"
   },
   "outputs": [],
   "source": [
    "def on_epoch_end(epoch, logs):\n",
    "  pred = model.predict([xTrainScaled[valMask], xTrainC01[valMask]]) #Полуаем выход сети на проверочно выборке\n",
    "  predUnscaled = yScaler.inverse_transform(pred).flatten() #Делаем обратное нормирование выхода к изначальным величинам цен квартир\n",
    "  yTrainUnscaled = yScaler.inverse_transform(yTrainScaled[valMask]).flatten() #Делаем такое же обратное нормирование yTrain к базовым ценам\n",
    "  delta = predUnscaled - yTrainUnscaled #Считаем разность предсказания и правильных цен\n",
    "  absDelta = abs(delta) #Берём модуль отклонения\n",
    "  print(\"Эпоха\", epoch, \"модуль ошибки\", round(sum(absDelta) / (1e+6 * len(absDelta)),3)) #Выводим усреднённую ошибку в миллионах рублей\n",
    "\n",
    "# Коллбэки\n",
    "pltMae = LambdaCallback(on_epoch_end=on_epoch_end)"
   ]
  },
  {
   "cell_type": "code",
   "execution_count": 19,
   "metadata": {
    "id": "O4fNbOfKSf5l"
   },
   "outputs": [
    {
     "name": "stdout",
     "output_type": "stream",
     "text": [
      "<class 'numpy.ndarray'>\n",
      "<class 'numpy.ndarray'>\n",
      "<class 'numpy.ndarray'>\n"
     ]
    }
   ],
   "source": [
    "print(type(xTrainScaled))\n",
    "print(type(xTrainC01))\n",
    "print(type(yTrainScaled))"
   ]
  },
  {
   "cell_type": "code",
   "execution_count": 21,
   "metadata": {
    "colab": {
     "base_uri": "https://localhost:8080/",
     "height": 1000
    },
    "id": "Thx0sCj5mg7Q",
    "outputId": "069cdaf9-1566-4d7d-870d-f5affb996cfe"
   },
   "outputs": [
    {
     "name": "stderr",
     "output_type": "stream",
     "text": [
      "/Users/ekaterina/opt/anaconda3/lib/python3.8/site-packages/keras/optimizer_v2/optimizer_v2.py:355: UserWarning: The `lr` argument is deprecated, use `learning_rate` instead.\n",
      "  warnings.warn(\n"
     ]
    },
    {
     "name": "stdout",
     "output_type": "stream",
     "text": [
      "Эпоха 0 модуль ошибки 3.024\n",
      "Эпоха 1 модуль ошибки 2.006\n",
      "Эпоха 2 модуль ошибки 1.975\n",
      "Эпоха 3 модуль ошибки 1.514\n",
      "Эпоха 4 модуль ошибки 1.57\n",
      "Эпоха 5 модуль ошибки 1.616\n",
      "Эпоха 6 модуль ошибки 1.388\n",
      "Эпоха 7 модуль ошибки 1.426\n",
      "Эпоха 8 модуль ошибки 1.336\n",
      "Эпоха 9 модуль ошибки 1.54\n",
      "Эпоха 10 модуль ошибки 1.294\n",
      "Эпоха 11 модуль ошибки 1.335\n",
      "Эпоха 12 модуль ошибки 1.403\n",
      "Эпоха 13 модуль ошибки 1.262\n",
      "Эпоха 14 модуль ошибки 1.321\n",
      "Эпоха 15 модуль ошибки 1.421\n",
      "Эпоха 16 модуль ошибки 1.275\n",
      "Эпоха 17 модуль ошибки 1.599\n",
      "Эпоха 18 модуль ошибки 1.42\n",
      "Эпоха 19 модуль ошибки 1.464\n",
      "\n",
      "Меняем шаг обучения на 1e-4\n"
     ]
    },
    {
     "name": "stderr",
     "output_type": "stream",
     "text": [
      "/Users/ekaterina/opt/anaconda3/lib/python3.8/site-packages/keras/optimizer_v2/optimizer_v2.py:355: UserWarning: The `lr` argument is deprecated, use `learning_rate` instead.\n",
      "  warnings.warn(\n"
     ]
    },
    {
     "name": "stdout",
     "output_type": "stream",
     "text": [
      "Эпоха 0 модуль ошибки 1.071\n",
      "Эпоха 1 модуль ошибки 1.048\n",
      "Эпоха 2 модуль ошибки 1.052\n",
      "Эпоха 3 модуль ошибки 1.045\n",
      "Эпоха 4 модуль ошибки 1.028\n",
      "Эпоха 5 модуль ошибки 1.019\n",
      "Эпоха 6 модуль ошибки 1.022\n",
      "Эпоха 7 модуль ошибки 1.013\n",
      "Эпоха 8 модуль ошибки 1.043\n",
      "Эпоха 9 модуль ошибки 1.001\n",
      "Эпоха 10 модуль ошибки 1.005\n",
      "Эпоха 11 модуль ошибки 1.042\n",
      "Эпоха 12 модуль ошибки 1.009\n",
      "Эпоха 13 модуль ошибки 1.082\n",
      "Эпоха 14 модуль ошибки 1.004\n",
      "Эпоха 15 модуль ошибки 1.003\n",
      "Эпоха 16 модуль ошибки 1.004\n",
      "Эпоха 17 модуль ошибки 1.092\n",
      "Эпоха 18 модуль ошибки 1.008\n",
      "Эпоха 19 модуль ошибки 0.992\n",
      "Эпоха 20 модуль ошибки 1.0\n",
      "Эпоха 21 модуль ошибки 0.998\n",
      "Эпоха 22 модуль ошибки 1.015\n",
      "Эпоха 23 модуль ошибки 1.0\n",
      "Эпоха 24 модуль ошибки 1.004\n",
      "Эпоха 25 модуль ошибки 0.995\n",
      "Эпоха 26 модуль ошибки 0.997\n",
      "Эпоха 27 модуль ошибки 1.009\n",
      "Эпоха 28 модуль ошибки 1.002\n",
      "Эпоха 29 модуль ошибки 0.995\n",
      "Эпоха 30 модуль ошибки 1.021\n",
      "Эпоха 31 модуль ошибки 0.993\n",
      "Эпоха 32 модуль ошибки 1.0\n",
      "Эпоха 33 модуль ошибки 1.004\n",
      "Эпоха 34 модуль ошибки 0.989\n",
      "Эпоха 35 модуль ошибки 0.987\n",
      "Эпоха 36 модуль ошибки 1.0\n",
      "Эпоха 37 модуль ошибки 1.01\n",
      "Эпоха 38 модуль ошибки 1.001\n",
      "Эпоха 39 модуль ошибки 1.274\n",
      "Эпоха 40 модуль ошибки 1.0\n",
      "Эпоха 41 модуль ошибки 1.038\n",
      "Эпоха 42 модуль ошибки 0.985\n",
      "Эпоха 43 модуль ошибки 0.982\n",
      "Эпоха 44 модуль ошибки 1.005\n",
      "Эпоха 45 модуль ошибки 1.01\n",
      "Эпоха 46 модуль ошибки 0.992\n",
      "Эпоха 47 модуль ошибки 0.983\n",
      "Эпоха 48 модуль ошибки 1.064\n",
      "Эпоха 49 модуль ошибки 0.992\n",
      "\n",
      "Меняем шаг обучения на 1e-5\n"
     ]
    },
    {
     "name": "stderr",
     "output_type": "stream",
     "text": [
      "/Users/ekaterina/opt/anaconda3/lib/python3.8/site-packages/keras/optimizer_v2/optimizer_v2.py:355: UserWarning: The `lr` argument is deprecated, use `learning_rate` instead.\n",
      "  warnings.warn(\n"
     ]
    },
    {
     "name": "stdout",
     "output_type": "stream",
     "text": [
      "Эпоха 0 модуль ошибки 0.977\n",
      "Эпоха 1 модуль ошибки 0.978\n",
      "Эпоха 2 модуль ошибки 0.976\n",
      "Эпоха 3 модуль ошибки 0.976\n",
      "Эпоха 4 модуль ошибки 0.979\n",
      "Эпоха 5 модуль ошибки 0.977\n",
      "Эпоха 6 модуль ошибки 0.976\n",
      "Эпоха 7 модуль ошибки 0.977\n",
      "Эпоха 8 модуль ошибки 0.979\n",
      "Эпоха 9 модуль ошибки 0.978\n",
      "Эпоха 10 модуль ошибки 0.976\n",
      "Эпоха 11 модуль ошибки 0.979\n",
      "Эпоха 12 модуль ошибки 0.979\n",
      "Эпоха 13 модуль ошибки 0.978\n",
      "Эпоха 14 модуль ошибки 0.98\n",
      "Эпоха 15 модуль ошибки 0.982\n",
      "Эпоха 16 модуль ошибки 0.976\n",
      "Эпоха 17 модуль ошибки 0.977\n",
      "Эпоха 18 модуль ошибки 0.976\n",
      "Эпоха 19 модуль ошибки 0.986\n",
      "Эпоха 20 модуль ошибки 0.977\n",
      "Эпоха 21 модуль ошибки 0.978\n",
      "Эпоха 22 модуль ошибки 0.977\n",
      "Эпоха 23 модуль ошибки 0.976\n",
      "Эпоха 24 модуль ошибки 0.977\n",
      "Эпоха 25 модуль ошибки 0.977\n",
      "Эпоха 26 модуль ошибки 0.976\n",
      "Эпоха 27 модуль ошибки 0.975\n",
      "Эпоха 28 модуль ошибки 0.976\n",
      "Эпоха 29 модуль ошибки 0.976\n",
      "Эпоха 30 модуль ошибки 0.977\n",
      "Эпоха 31 модуль ошибки 0.978\n",
      "Эпоха 32 модуль ошибки 0.977\n",
      "Эпоха 33 модуль ошибки 0.976\n",
      "Эпоха 34 модуль ошибки 0.976\n",
      "Эпоха 35 модуль ошибки 0.978\n",
      "Эпоха 36 модуль ошибки 0.982\n",
      "Эпоха 37 модуль ошибки 0.975\n",
      "Эпоха 38 модуль ошибки 0.98\n",
      "Эпоха 39 модуль ошибки 0.978\n",
      "Эпоха 40 модуль ошибки 0.976\n",
      "Эпоха 41 модуль ошибки 0.979\n",
      "Эпоха 42 модуль ошибки 0.976\n",
      "Эпоха 43 модуль ошибки 0.976\n",
      "Эпоха 44 модуль ошибки 0.975\n",
      "Эпоха 45 модуль ошибки 0.976\n",
      "Эпоха 46 модуль ошибки 0.982\n",
      "Эпоха 47 модуль ошибки 0.98\n",
      "Эпоха 48 модуль ошибки 0.976\n",
      "Эпоха 49 модуль ошибки 0.981\n"
     ]
    }
   ],
   "source": [
    "#Простая Dense сеть\n",
    "input1 = Input((xTrainScaled.shape[1],))\n",
    "input2 = Input((xTrainC01.shape[1],))\n",
    "\n",
    "x1 = Dense(10, activation=\"relu\")(input1)\n",
    "x2 = Dense(250, activation=\"relu\")(input2)\n",
    "\n",
    "x = concatenate([x1, x2])\n",
    "\n",
    "x = Dense(100, activation='relu')(x)\n",
    "x = Dense(10, activation='relu')(x)\n",
    "x = Dense(1, activation='linear')(x)\n",
    "\n",
    "model = Model((input1, input2), x)\n",
    "\n",
    "model.compile(optimizer=Adam(lr=1e-3), loss='mse')\n",
    "history = model.fit([xTrainScaled[~valMask], xTrainC01[~valMask]], \n",
    "                    yTrainScaled[~valMask], \n",
    "                    epochs=20, \n",
    "                    validation_data=([xTrainScaled[valMask], xTrainC01[valMask]], \n",
    "                    yTrainScaled[valMask]), \n",
    "                    verbose=0,\n",
    "                    callbacks=[pltMae])\n",
    "\n",
    "print()\n",
    "print('Меняем шаг обучения на 1e-4')\n",
    "model.compile(optimizer=Adam(lr=1e-4), loss='mse')\n",
    "history = model.fit([xTrainScaled[~valMask], xTrainC01[~valMask]], \n",
    "                    yTrainScaled[~valMask], \n",
    "                    epochs=50, \n",
    "                    validation_data=([xTrainScaled[valMask], xTrainC01[valMask]], \n",
    "                    yTrainScaled[valMask]), \n",
    "                    verbose=0,\n",
    "                    callbacks=[pltMae])\n",
    "\n",
    "print()\n",
    "print('Меняем шаг обучения на 1e-5')\n",
    "model.compile(optimizer=Adam(lr=1e-5), loss='mse')\n",
    "history = model.fit([xTrainScaled[~valMask], xTrainC01[~valMask]], \n",
    "                    yTrainScaled[~valMask], \n",
    "                    epochs=50, \n",
    "                    validation_data=([xTrainScaled[valMask], xTrainC01[valMask]], \n",
    "                    yTrainScaled[valMask]), \n",
    "                    verbose=0,\n",
    "                    callbacks=[pltMae])\n"
   ]
  },
  {
   "cell_type": "code",
   "execution_count": 22,
   "metadata": {
    "id": "gdW3PNrku8ow"
   },
   "outputs": [
    {
     "name": "stdout",
     "output_type": "stream",
     "text": [
      "Модуль ошибки 0.9805478395770457\n"
     ]
    },
    {
     "data": {
      "image/png": "[encoded data removed]",
      "text/plain": [
       "<Figure size 432x288 with 1 Axes>"
      ]
     },
     "metadata": {
      "needs_background": "light"
     },
     "output_type": "display_data"
    }
   ],
   "source": [
    "#Проверяем результаты\n",
    "pred = model.predict([xTrainScaled[valMask], xTrainC01[valMask]]) #Полуаем выход сети на проверочной выборке\n",
    "predUnscaled = yScaler.inverse_transform(pred).flatten() #Делаем обратное нормирование выхода к изначальным величинам цен квартир\n",
    "yTrainUnscaled = yScaler.inverse_transform(yTrainScaled[valMask]).flatten() #Делаем такое же обратное нормирование yTrain к базовым ценам\n",
    "delta = predUnscaled - yTrainUnscaled #Считаем разность предсказания и правильных цен\n",
    "absDelta = abs(delta) #Берём модуль отклонения\n",
    "print(\"Модуль ошибки\", sum(absDelta) / (1e+6 * len(absDelta))) #Выводим усреднённую ошибку в миллионах рублей\n",
    "\n",
    "#графики ошибки\n",
    "plt.plot(history.history['loss'], \n",
    "         label='Средняя абсолютная ошибка на обучающем наборе')\n",
    "plt.plot(history.history['val_loss'], \n",
    "         label='Средняя абсолютная ошибка на проверочном наборе')\n",
    "plt.xlabel('Эпоха обучения')\n",
    "plt.ylabel('Средняя абсолютная ошибка')\n",
    "plt.legend()\n",
    "plt.show()"
   ]
  },
  {
   "cell_type": "code",
   "execution_count": null,
   "metadata": {},
   "outputs": [],
   "source": []
  }
 ],
 "metadata": {
  "accelerator": "GPU",
  "colab": {
   "collapsed_sections": [
    "DQqa8snjeA7p",
    "t6Qo4UKqldyH"
   ],
   "machine_shape": "hm",
   "name": "Решение задачи регрессии (Университет искусственного интеллекта)",
   "provenance": []
  },
  "kernelspec": {
   "display_name": "Python 3",
   "language": "python",
   "name": "python3"
  },
  "language_info": {
   "codemirror_mode": {
    "name": "ipython",
    "version": 3
   },
   "file_extension": ".py",
   "mimetype": "text/x-python",
   "name": "python",
   "nbconvert_exporter": "python",
   "pygments_lexer": "ipython3",
   "version": "3.8.3"
  }
 },
 "nbformat": 4,
 "nbformat_minor": 1
}
