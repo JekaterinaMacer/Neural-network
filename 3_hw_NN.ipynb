{
 "cells": [
  {
   "cell_type": "markdown",
   "metadata": {
    "id": "vBvuSQtdCyPq"
   },
   "source": [
    "### Задание № 3\n",
    "\n",
    "\n",
    "#### Тема: Свёрточные нейронные сети\n",
    "\n",
    "Распознавание изображений из набора данных MNIST, CIFAR-10 и базы автомобилей с помощью свёрточных нейронных сетей"
   ]
  },
  {
   "cell_type": "markdown",
   "metadata": {
    "id": "nqZpzs2nBs63"
   },
   "source": [
    "### Задание Ultra Lite"
   ]
  },
  {
   "cell_type": "markdown",
   "metadata": {},
   "source": [
    "Переписать ноутбук по распознаванию рукописных цифр своими руками, восстановив следующие операции:\n",
    "\n",
    "1. Импорт библиотек.\n",
    "2. Загрузка базы mnist.\n",
    "3. Нормирование и преобразование x_train и y_train.\n",
    "4. Создание сверточной нейронной сети.\n",
    "5. Обучение сверточной нейронной сети.\n",
    "Можно смотреть в ноутбук с занятия, но код писать самостоятельно.\n"
   ]
  },
  {
   "cell_type": "markdown",
   "metadata": {},
   "source": [
    "### Задание Lite\n",
    "\n",
    "\n"
   ]
  },
  {
   "cell_type": "markdown",
   "metadata": {},
   "source": [
    "Провести серию экспериментов по подбору гиперпараметров нейронной сети, созданной на занятии (можно использовать любую нейросеть с занятия, либо создать свою свёрточную сеть).\n",
    "\n",
    "Поменять количество нейронов (фильтров) в скрытом сверточном слое и обучить сеть, использовав следующие значения:\n",
    "○ первая сеть - скрытый слой 2 нейрона\n",
    "\n",
    "○ вторая сеть - тот же скрытый слой 4 нейрона\n",
    "\n",
    "○ третья сеть - тот же скрытый слой 16 нейронов\n",
    "\n",
    "Поменять активационную функцию в скрытых слоях с relu на linear\n",
    "Поменять размеры batch_size:\n",
    "○ 10\n",
    "\n",
    "○ 100\n",
    "\n",
    "○ Вся база (50000)\n",
    "\n",
    "Записать в таблицу получившиеся точности.\n",
    "Написать выводы по результатам проведенных тестов."
   ]
  },
  {
   "cell_type": "markdown",
   "metadata": {},
   "source": [
    "### Задание Pro\n",
    "\n",
    "\n"
   ]
  },
  {
   "cell_type": "markdown",
   "metadata": {},
   "source": [
    "Провести ряд экспериментов с архитектурой нейронной сети:\n",
    "\n",
    "Исследовать влияние количества слоев conv2d.\n",
    "\n",
    "Исследовать влияние количества нейронов (фильтров) в слоях conv2d.\n",
    "\n",
    "Исследовать влияние MaxPooling2D в сети.\n",
    "\n",
    "Исследовать влияние Dropout.\n",
    "\n",
    "Написать выводы по результатам проведенных тестов. \n",
    " "
   ]
  },
  {
   "cell_type": "markdown",
   "metadata": {},
   "source": [
    "### Задание Ultra pro\n",
    "\n",
    "\n"
   ]
  },
  {
   "cell_type": "markdown",
   "metadata": {},
   "source": [
    "Добейтесь точности не менее 85% на проверочной выборке на базе трех иномарок. \n",
    "\n",
    "Размер проверочной выборки - 20%.\n"
   ]
  },
  {
   "cell_type": "markdown",
   "metadata": {
    "id": "qLX9aj3eFCPB"
   },
   "source": [
    "#### 1. Импорт библиотек."
   ]
  },
  {
   "cell_type": "code",
   "execution_count": 2,
   "metadata": {
    "id": "3b4wMrfQKe2l"
   },
   "outputs": [],
   "source": [
    "from tensorflow.keras.datasets import mnist \n",
    "from tensorflow.keras.datasets import cifar10 \n",
    "from tensorflow.keras.models import Sequential #Сеть прямого распространения\n",
    "#Базовые слои для свёрточных сетей\n",
    "from tensorflow.keras.layers import Dense, Conv2D, MaxPooling2D, Flatten, Dropout, BatchNormalization\n",
    "from tensorflow.python.keras.preprocessing.image import ImageDataGenerator # работа с изображениями\n",
    "from tensorflow.keras.optimizers import Adam, Adadelta # оптимизаторы\n",
    "from tensorflow.keras import utils #Используем для to_categoricall\n",
    "from tensorflow.keras.preprocessing import image #Для отрисовки изображений\n",
    "import numpy as np \n",
    "import matplotlib.pyplot as plt \n",
    "from PIL import Image #Для отрисовки изображений\n",
    "import random \n",
    "import math\n",
    "import os #Для работы с файлами \n",
    "%matplotlib inline"
   ]
  },
  {
   "cell_type": "markdown",
   "metadata": {
    "id": "a-cggImwMCQP"
   },
   "source": [
    "**2. Загрузка базы mnist**\n"
   ]
  },
  {
   "cell_type": "code",
   "execution_count": 3,
   "metadata": {
    "colab": {
     "base_uri": "https://localhost:8080/",
     "height": 51
    },
    "id": "_PT1LV_KMVto",
    "outputId": "d5076dd8-7a0a-44de-c531-4b04b118456b"
   },
   "outputs": [],
   "source": [
    "(x_train, y_train), (x_test, y_test) = mnist.load_data()"
   ]
  },
  {
   "cell_type": "code",
   "execution_count": 4,
   "metadata": {
    "colab": {
     "base_uri": "https://localhost:8080/",
     "height": 34
    },
    "id": "nft2zSCpVWYV",
    "outputId": "ef318ead-d3e0-4076-e28d-6da405644560"
   },
   "outputs": [
    {
     "data": {
      "text/plain": [
       "(60000, 28, 28)"
      ]
     },
     "execution_count": 4,
     "metadata": {},
     "output_type": "execute_result"
    }
   ],
   "source": [
    "x_train.shape"
   ]
  },
  {
   "cell_type": "markdown",
   "metadata": {},
   "source": [
    "**3. Нормирование и преобразование x_train и y_train**"
   ]
  },
  {
   "cell_type": "code",
   "execution_count": 5,
   "metadata": {
    "colab": {
     "base_uri": "https://localhost:8080/",
     "height": 168
    },
    "id": "vNoGJvE_M3YW",
    "outputId": "8ddfd4cc-6268-49f3-ffd2-ed0d60675980"
   },
   "outputs": [
    {
     "data": {
      "image/png": "[encoded data removed]",
      "text/plain": [
       "<Figure size 1800x216 with 10 Axes>"
      ]
     },
     "metadata": {
      "needs_background": "light"
     },
     "output_type": "display_data"
    }
   ],
   "source": [
    "fig, axs = plt.subplots(1, 10, figsize=(25, 3)) #Создаем полотно из 10 графиков\n",
    "for i in range(10): #Проходим по классам от 0 до 9\n",
    "  label_indexes = np.where(y_train==i)[0] #Получаем список из индексов положений класса i в y_train\n",
    "  index = random.choice(label_indexes) \n",
    "  img = x_train[index] \n",
    "  axs[i].imshow(Image.fromarray(img), cmap='gray')\n",
    "plt.show() "
   ]
  },
  {
   "cell_type": "code",
   "execution_count": 6,
   "metadata": {
    "id": "ti92Kvp3NX61"
   },
   "outputs": [],
   "source": [
    "y_train = utils.to_categorical(y_train, 10)\n",
    "y_test = utils.to_categorical(y_test, 10)\n",
    "x_train = x_train.reshape(x_train.shape[0], 28, 28, 1)#Надо добавить в конце размерность 1\n",
    "x_test = x_test.reshape(x_test.shape[0], 28, 28, 1)#Чтобы свёрточная сеть понимала, что это чёрно-белые данные"
   ]
  },
  {
   "cell_type": "code",
   "execution_count": 7,
   "metadata": {
    "colab": {
     "base_uri": "https://localhost:8080/",
     "height": 85
    },
    "id": "tZwKJRB7dW3q",
    "outputId": "4a39e9b8-e96d-40e3-a20c-738a3019ab3b"
   },
   "outputs": [
    {
     "name": "stdout",
     "output_type": "stream",
     "text": [
      "(60000, 28, 28, 1)\n",
      "(10000, 28, 28, 1)\n",
      "(60000, 10)\n",
      "(10000, 10)\n"
     ]
    }
   ],
   "source": [
    "print(x_train.shape)\n",
    "print(x_test.shape)\n",
    "print(y_train.shape)\n",
    "print(y_test.shape)"
   ]
  },
  {
   "cell_type": "markdown",
   "metadata": {
    "id": "P93UbJvKSEAX"
   },
   "source": [
    "**4. Нейронная сеть**"
   ]
  },
  {
   "cell_type": "code",
   "execution_count": 8,
   "metadata": {
    "id": "5YioYV0CPY7B"
   },
   "outputs": [],
   "source": [
    "batch_size = 128 \n",
    "model = Sequential()#Создаем последовательную модель\n",
    "model.add(BatchNormalization(input_shape=(28, 28, 1)))#Слой пакетной нормализации\n",
    "model.add(Conv2D(32, (3, 3), padding='same', activation='relu'))#Первый сверточный слой\n",
    "model.add(Conv2D(32, (3, 3), padding='same', activation='relu'))#Второй сверточный слой\n",
    "model.add(MaxPooling2D(pool_size=(2, 2)))#Первый слой подвыборки\n",
    "model.add(Dropout(0.25))#Слой регуляризации Dropout\n",
    "model.add(Flatten())\n",
    "model.add(Dense(256, activation='relu'))#Полносвязный слой для классификации\n",
    "model.add(Dropout(0.25))\n",
    "model.add(Dense(10, activation='softmax'))#Выходной полносвязный слой\n",
    "model.compile(loss=\"categorical_crossentropy\", optimizer=\"adam\", metrics=[\"accuracy\"])#Компилируем сеть"
   ]
  },
  {
   "cell_type": "code",
   "execution_count": 9,
   "metadata": {
    "colab": {
     "base_uri": "https://localhost:8080/",
     "height": 459
    },
    "id": "3DJfoivkXWpq",
    "outputId": "0ef0005d-e3b8-4319-f0b9-512783034576"
   },
   "outputs": [
    {
     "name": "stdout",
     "output_type": "stream",
     "text": [
      "Model: \"sequential\"\n",
      "_________________________________________________________________\n",
      "Layer (type)                 Output Shape              Param #   \n",
      "=================================================================\n",
      "batch_normalization (BatchNo (None, 28, 28, 1)         4         \n",
      "_________________________________________________________________\n",
      "conv2d (Conv2D)              (None, 28, 28, 32)        320       \n",
      "_________________________________________________________________\n",
      "conv2d_1 (Conv2D)            (None, 28, 28, 32)        9248      \n",
      "_________________________________________________________________\n",
      "max_pooling2d (MaxPooling2D) (None, 14, 14, 32)        0         \n",
      "_________________________________________________________________\n",
      "dropout (Dropout)            (None, 14, 14, 32)        0         \n",
      "_________________________________________________________________\n",
      "flatten (Flatten)            (None, 6272)              0         \n",
      "_________________________________________________________________\n",
      "dense (Dense)                (None, 256)               1605888   \n",
      "_________________________________________________________________\n",
      "dropout_1 (Dropout)          (None, 256)               0         \n",
      "_________________________________________________________________\n",
      "dense_1 (Dense)              (None, 10)                2570      \n",
      "=================================================================\n",
      "Total params: 1,618,030\n",
      "Trainable params: 1,618,028\n",
      "Non-trainable params: 2\n",
      "_________________________________________________________________\n"
     ]
    }
   ],
   "source": [
    "model.summary()"
   ]
  },
  {
   "cell_type": "markdown",
   "metadata": {},
   "source": [
    "**5. Обучение сверточной нейронной сети**"
   ]
  },
  {
   "cell_type": "code",
   "execution_count": 10,
   "metadata": {
    "colab": {
     "base_uri": "https://localhost:8080/",
     "height": 789
    },
    "id": "Id69qEDaAx_4",
    "outputId": "501a73ce-8403-4192-8063-3866c592b229"
   },
   "outputs": [
    {
     "name": "stdout",
     "output_type": "stream",
     "text": [
      "Epoch 1/15\n",
      "469/469 [==============================] - 80s 168ms/step - loss: 0.1588 - accuracy: 0.9513 - val_loss: 0.0462 - val_accuracy: 0.9850\n",
      "Epoch 2/15\n",
      "469/469 [==============================] - 69s 146ms/step - loss: 0.0509 - accuracy: 0.9845 - val_loss: 0.0322 - val_accuracy: 0.9881\n",
      "Epoch 3/15\n",
      "469/469 [==============================] - 71s 150ms/step - loss: 0.0352 - accuracy: 0.9887 - val_loss: 0.0335 - val_accuracy: 0.9891\n",
      "Epoch 4/15\n",
      "469/469 [==============================] - 61s 130ms/step - loss: 0.0277 - accuracy: 0.9911 - val_loss: 0.0304 - val_accuracy: 0.9905\n",
      "Epoch 5/15\n",
      "469/469 [==============================] - 60s 128ms/step - loss: 0.0199 - accuracy: 0.9936 - val_loss: 0.0329 - val_accuracy: 0.9902\n",
      "Epoch 6/15\n",
      "469/469 [==============================] - 196s 418ms/step - loss: 0.0179 - accuracy: 0.9938 - val_loss: 0.0308 - val_accuracy: 0.9905\n",
      "Epoch 7/15\n",
      "469/469 [==============================] - 64s 136ms/step - loss: 0.0156 - accuracy: 0.9947 - val_loss: 0.0325 - val_accuracy: 0.9909\n",
      "Epoch 8/15\n",
      "469/469 [==============================] - 68s 144ms/step - loss: 0.0132 - accuracy: 0.9957 - val_loss: 0.0315 - val_accuracy: 0.9923\n",
      "Epoch 9/15\n",
      "469/469 [==============================] - 73s 155ms/step - loss: 0.0116 - accuracy: 0.9958 - val_loss: 0.0355 - val_accuracy: 0.9906\n",
      "Epoch 10/15\n",
      "469/469 [==============================] - 65s 138ms/step - loss: 0.0106 - accuracy: 0.9963 - val_loss: 0.0356 - val_accuracy: 0.9909\n",
      "Epoch 11/15\n",
      "469/469 [==============================] - 60s 129ms/step - loss: 0.0098 - accuracy: 0.9966 - val_loss: 0.0332 - val_accuracy: 0.9915\n",
      "Epoch 12/15\n",
      "469/469 [==============================] - 82s 176ms/step - loss: 0.0092 - accuracy: 0.9967 - val_loss: 0.0335 - val_accuracy: 0.9919\n",
      "Epoch 13/15\n",
      "469/469 [==============================] - 79s 169ms/step - loss: 0.0092 - accuracy: 0.9969 - val_loss: 0.0263 - val_accuracy: 0.9929\n",
      "Epoch 14/15\n",
      "469/469 [==============================] - 71s 151ms/step - loss: 0.0072 - accuracy: 0.9974 - val_loss: 0.0327 - val_accuracy: 0.9915\n",
      "Epoch 15/15\n",
      "469/469 [==============================] - 70s 150ms/step - loss: 0.0082 - accuracy: 0.9971 - val_loss: 0.0318 - val_accuracy: 0.9921\n"
     ]
    },
    {
     "data": {
      "image/png": "[encoded data removed]",
      "text/plain": [
       "<Figure size 432x288 with 1 Axes>"
      ]
     },
     "metadata": {
      "needs_background": "light"
     },
     "output_type": "display_data"
    }
   ],
   "source": [
    "history = model.fit(x_train, \n",
    "                    y_train, \n",
    "                    batch_size=batch_size, \n",
    "                    epochs=15,\n",
    "                    validation_data=(x_test, y_test),\n",
    "                    verbose=1)\n",
    "\n",
    "plt.plot(history.history['accuracy'], \n",
    "         label='Доля верных ответов на обучающем наборе')\n",
    "plt.plot(history.history['val_accuracy'], \n",
    "         label='Доля верных ответов на проверочном наборе')\n",
    "plt.xlabel('Эпоха обучения')\n",
    "plt.ylabel('Доля верных ответов')\n",
    "plt.legend()\n",
    "plt.show()"
   ]
  },
  {
   "cell_type": "markdown",
   "metadata": {
    "id": "NEJGx4VISN2w"
   },
   "source": [
    "**Определение цифр из тестовой выборки**"
   ]
  },
  {
   "cell_type": "code",
   "execution_count": 11,
   "metadata": {
    "colab": {
     "base_uri": "https://localhost:8080/",
     "height": 85
    },
    "id": "X2_KF-b0ar3i",
    "outputId": "24277a6a-9afb-462a-f3af-6464b184150a"
   },
   "outputs": [
    {
     "name": "stdout",
     "output_type": "stream",
     "text": [
      "Выход сети:  [2.8934912e-12 1.7117725e-04 1.5224083e-09 1.3809566e-09 1.3564626e-12\n",
      " 9.0561100e-12 9.2574581e-16 9.9982882e-01 8.0549831e-11 4.7848476e-09]\n",
      "Распознанная цифра:  7\n",
      "Верный ответ:  7\n"
     ]
    }
   ],
   "source": [
    "n = np.random.randint(x_test.shape[0])\n",
    "prediction = model.predict(x_test)#Получаем выход сети \n",
    "\n",
    "print(\"Выход сети: \", prediction[n])\n",
    "print(\"Распознанная цифра: \", np.argmax(prediction[n]))\n",
    "print(\"Верный ответ: \", np.argmax(y_test[n]))"
   ]
  },
  {
   "cell_type": "markdown",
   "metadata": {
    "id": "Y7e0r2CqanQl"
   },
   "source": [
    "**Определение цифр на реальных фотографиях**"
   ]
  },
  {
   "cell_type": "code",
   "execution_count": 16,
   "metadata": {},
   "outputs": [
    {
     "data": {
      "text/plain": [
       "'/Users/ekaterina/Desktop/LEARN/IT/УИИ/Введение в нейронные сети/3_digits'"
      ]
     },
     "execution_count": 16,
     "metadata": {},
     "output_type": "execute_result"
    }
   ],
   "source": [
    "import png\n",
    "\n",
    "reader = png.Reader( path-to-16bit-png )\n",
    "pngdata = reader.read()\n",
    "px_array = np.array( map( np.uint16, pngdata[2] )\n",
    "print( px_array.dtype )"
   ]
  },
  {
   "cell_type": "code",
   "execution_count": 18,
   "metadata": {},
   "outputs": [
    {
     "name": "stdout",
     "output_type": "stream",
     "text": [
      "Collecting unzip\n",
      "  Downloading unzip-1.0.0.tar.gz (704 bytes)\n",
      "Building wheels for collected packages: unzip\n",
      "  Building wheel for unzip (setup.py) ... \u001b[?25ldone\n",
      "\u001b[?25h  Created wheel for unzip: filename=unzip-1.0.0-py3-none-any.whl size=1330 sha256=1ba69c103791ab41a816b65171751e77735040dd5c8b440237a22dd3917793fe\n",
      "  Stored in directory: /Users/ekaterina/Library/Caches/pip/wheels/90/bd/0f/a2797a7e90de1cdd91548fba3b16a7c2560e14a268bb137101\n",
      "Successfully built unzip\n",
      "Installing collected packages: unzip\n",
      "Successfully installed unzip-1.0.0\n",
      "Note: you may need to restart the kernel to use updated packages.\n"
     ]
    }
   ],
   "source": [
    "pip install unzip"
   ]
  },
  {
   "cell_type": "code",
   "execution_count": 29,
   "metadata": {
    "colab": {
     "base_uri": "https://localhost:8080/",
     "height": 221
    },
    "id": "5Q9R7u5NTYMl",
    "outputId": "1932eb8b-6b26-4262-d8d6-38b2b74233ae"
   },
   "outputs": [],
   "source": [
    "#!unzip '/Users/ekaterina/Desktop/LEARN/IT/УИИ/Введение в нейронные сети/3_digits.zip' #Извлечем файлы из архива"
   ]
  },
  {
   "cell_type": "code",
   "execution_count": 25,
   "metadata": {},
   "outputs": [],
   "source": [
    "import zipfile "
   ]
  },
  {
   "cell_type": "code",
   "execution_count": 27,
   "metadata": {},
   "outputs": [],
   "source": [
    "zip_archive = zipfile.ZipFile(\"/Users/ekaterina/Desktop/LEARN/IT/УИИ/Введение в нейронные сети/3_digits.zip\", \"r\")"
   ]
  },
  {
   "cell_type": "code",
   "execution_count": 28,
   "metadata": {},
   "outputs": [
    {
     "name": "stdout",
     "output_type": "stream",
     "text": [
      "3_digits/ (2020, 4, 20, 20, 52, 2) 0\n",
      "__MACOSX/._3_digits (2020, 4, 20, 20, 52, 2) 212\n",
      "3_digits/8.png (2020, 4, 20, 20, 32, 40) 13014\n",
      "__MACOSX/3_digits/._8.png (2020, 4, 20, 20, 32, 40) 212\n",
      "3_digits/9.png (2020, 4, 20, 20, 51, 28) 12684\n",
      "__MACOSX/3_digits/._9.png (2020, 4, 20, 20, 51, 28) 212\n",
      "3_digits/4.png (2020, 4, 20, 20, 32, 36) 9747\n",
      "__MACOSX/3_digits/._4.png (2020, 4, 20, 20, 32, 36) 212\n",
      "3_digits/5.png (2020, 4, 20, 20, 32, 38) 11613\n",
      "__MACOSX/3_digits/._5.png (2020, 4, 20, 20, 32, 38) 212\n",
      "3_digits/7.png (2020, 4, 20, 20, 51, 28) 11303\n",
      "__MACOSX/3_digits/._7.png (2020, 4, 20, 20, 51, 28) 212\n",
      "3_digits/6.png (2020, 4, 20, 20, 32, 38) 11663\n",
      "__MACOSX/3_digits/._6.png (2020, 4, 20, 20, 32, 38) 212\n",
      "3_digits/2.png (2020, 4, 20, 20, 32, 34) 10710\n",
      "__MACOSX/3_digits/._2.png (2020, 4, 20, 20, 32, 34) 212\n",
      "3_digits/3.png (2020, 4, 20, 20, 32, 36) 11387\n",
      "__MACOSX/3_digits/._3.png (2020, 4, 20, 20, 32, 36) 212\n",
      "3_digits/1.png (2020, 4, 20, 20, 32, 34) 9534\n",
      "__MACOSX/3_digits/._1.png (2020, 4, 20, 20, 32, 34) 212\n",
      "3_digits/0.png (2020, 4, 20, 20, 51, 28) 11605\n",
      "__MACOSX/3_digits/._0.png (2020, 4, 20, 20, 51, 28) 212\n"
     ]
    }
   ],
   "source": [
    "for file_info in zip_archive.infolist(): \n",
    "    print(file_info.filename, file_info.date_time, file_info.file_size)"
   ]
  },
  {
   "cell_type": "code",
   "execution_count": 31,
   "metadata": {
    "colab": {
     "base_uri": "https://localhost:8080/",
     "height": 51
    },
    "id": "sYIGO_QciOZ6",
    "outputId": "4ffd207c-095c-45ee-eb39-7e815f0d856c"
   },
   "outputs": [],
   "source": [
    "#Выводим для примера картинки по каждому классу\n",
    "def change_contrast(img, factor): #Функция для увеличения контрастности \n",
    "    def contrast(pixel): #Функция для изменения цвета пикселя\n",
    "        return 128 + factor * (pixel - 128) \n",
    "    return img.point(contrast)\n",
    "\n",
    "xTestReal = [] #Создаем x_test для загруженных картинок\n",
    "yTestReal = [] #Создаем y_test для классов изображений\n",
    "\n",
    "for i in range(10): #Проходим по классам от 0 до 9\n",
    "  img_path = '3_digits/' + str(i) + '.png' #Определяем имя изображения\n",
    "  img = image.load_img(img_path, grayscale=True, target_size=(28, 28))\n",
    "  img1 = change_contrast(img, factor=5.0) #Увеличиваем контрастность изображения\n",
    "  xTestReal.append(255 - np.asarray(img1)) #Инвертируем изображение и добавляем в выборку\n",
    "  yTestReal.append(i) #Добавляем в y_train номера классов\n",
    "\n",
    "xTestReal = np.array(xTestReal) #Преобразуем в Numpy array\n",
    "yTestReal = np.array(yTestReal) "
   ]
  },
  {
   "cell_type": "code",
   "execution_count": 32,
   "metadata": {
    "colab": {
     "base_uri": "https://localhost:8080/",
     "height": 168
    },
    "id": "Yn34RXU7iYSx",
    "outputId": "9f45d281-fc77-483e-b812-46fedf036d0f"
   },
   "outputs": [
    {
     "data": {
      "image/png": "[encoded data removed]",
      "text/plain": [
       "<Figure size 1800x216 with 10 Axes>"
      ]
     },
     "metadata": {
      "needs_background": "light"
     },
     "output_type": "display_data"
    }
   ],
   "source": [
    "#Выводим для примера картинки по каждому классу\n",
    "fig, axs = plt.subplots(1, 10, figsize=(25, 3)) #Создаем полотно из 10 графиков\n",
    "for i in range(10): #Проходим по классам от 0 до 9\n",
    "  axs[i].imshow(Image.fromarray(xTestReal[i]), cmap='gray') #Конвертируем изображение в черно-белый формат и отображаем i-ым графиков\n",
    "plt.show()"
   ]
  },
  {
   "cell_type": "code",
   "execution_count": 33,
   "metadata": {
    "id": "JiiBmJmKlJ4K"
   },
   "outputs": [],
   "source": [
    "#Меняем формат данных\n",
    "xTestReal = xTestReal.reshape(xTestReal.shape[0], 28, 28, 1)"
   ]
  },
  {
   "cell_type": "code",
   "execution_count": 34,
   "metadata": {
    "colab": {
     "base_uri": "https://localhost:8080/",
     "height": 187
    },
    "id": "ZSzmaDWnmWCW",
    "outputId": "80aed1c4-dc8d-44fe-8444-d8308235f54f",
    "scrolled": false
   },
   "outputs": [
    {
     "name": "stdout",
     "output_type": "stream",
     "text": [
      "Распознанный образ: 0 . Верный ответ 0\n",
      "Распознанный образ: 1 . Верный ответ 1\n",
      "Распознанный образ: 2 . Верный ответ 2\n",
      "Распознанный образ: 3 . Верный ответ 3\n",
      "Распознанный образ: 4 . Верный ответ 4\n",
      "Распознанный образ: 5 . Верный ответ 5\n",
      "Распознанный образ: 6 . Верный ответ 6\n",
      "Распознанный образ: 7 . Верный ответ 7\n",
      "Распознанный образ: 8 . Верный ответ 8\n",
      "Распознанный образ: 9 . Верный ответ 9\n"
     ]
    }
   ],
   "source": [
    "prediction = model.predict(xTestReal) #Классифицируем каждое изображение\n",
    "for i in range(10): \n",
    "  print(\"Распознанный образ:\", np.argmax(prediction[i]), '. Верный ответ', yTestReal[i])"
   ]
  },
  {
   "cell_type": "markdown",
   "metadata": {},
   "source": [
    "### Конец ДЗ Ultra Lite"
   ]
  },
  {
   "cell_type": "markdown",
   "metadata": {
    "id": "9IYEGRTWcIMa"
   },
   "source": [
    "#### Распознавание изображений из набора данных Cifar10\n"
   ]
  },
  {
   "cell_type": "code",
   "execution_count": 35,
   "metadata": {
    "colab": {
     "base_uri": "https://localhost:8080/",
     "height": 51
    },
    "id": "SbNV5Ql3cdB4",
    "outputId": "31663cf3-0971-40fd-dcac-91e929d520eb"
   },
   "outputs": [
    {
     "name": "stdout",
     "output_type": "stream",
     "text": [
      "Downloading data from https://www.cs.toronto.edu/~kriz/cifar-10-python.tar.gz\n",
      "170500096/170498071 [==============================] - 23s 0us/step\n",
      "170508288/170498071 [==============================] - 23s 0us/step\n"
     ]
    }
   ],
   "source": [
    "#Загружаем cifar10\n",
    "(x_train10, y_train10), (x_test10, y_test10) = cifar10.load_data()"
   ]
  },
  {
   "cell_type": "code",
   "execution_count": 36,
   "metadata": {
    "colab": {
     "base_uri": "https://localhost:8080/",
     "height": 34
    },
    "id": "LnLys2viYuZ7",
    "outputId": "c4524286-bb78-4563-ae65-7715841b3bd6"
   },
   "outputs": [
    {
     "data": {
      "text/plain": [
       "(50000, 32, 32, 3)"
      ]
     },
     "execution_count": 36,
     "metadata": {},
     "output_type": "execute_result"
    }
   ],
   "source": [
    "x_train10.shape"
   ]
  },
  {
   "cell_type": "code",
   "execution_count": 37,
   "metadata": {
    "id": "mYazuCsYcr7F"
   },
   "outputs": [],
   "source": [
    "#Определяем названия классов по порядку\n",
    "classes = ['самолет', 'автомобиль', 'птица', 'кот', 'олень', 'собака', 'лягушка', 'лошадь', 'корабль', 'грузовик']"
   ]
  },
  {
   "cell_type": "code",
   "execution_count": 38,
   "metadata": {
    "id": "k_MZdoqTcdB6"
   },
   "outputs": [
    {
     "data": {
      "image/png": "[encoded data removed]",
      "text/plain": [
       "<Figure size 1800x216 with 10 Axes>"
      ]
     },
     "metadata": {
      "needs_background": "light"
     },
     "output_type": "display_data"
    }
   ],
   "source": [
    "#Выводим для примера картинки по каждому классу\n",
    "\n",
    "fig, axs = plt.subplots(1, 10, figsize=(25, 3)) #Создаем полотно из 10 графиков\n",
    "for i in range(10): #Проходим по классам от 0 до 9\n",
    "  label_indexes = np.where(y_train10==i)[0] #Получаем список из индексов положений класса i в y_train\n",
    "  index = random.choice(label_indexes) #Случайным образом выбираем из списка индекс\n",
    "  img = x_train10[index] #Выбираем из x_train нужное изображение\n",
    "  axs[i].imshow(Image.fromarray(img)) #Отображаем изображение i-ым графиков\n",
    "\n",
    "plt.show() #Показываем изображения"
   ]
  },
  {
   "cell_type": "code",
   "execution_count": 39,
   "metadata": {
    "id": "B6gZ7EcUcdB9"
   },
   "outputs": [],
   "source": [
    "y_train10 = utils.to_categorical(y_train10, 10)\n",
    "y_test10 = utils.to_categorical(y_test10, 10)"
   ]
  },
  {
   "cell_type": "code",
   "execution_count": 40,
   "metadata": {
    "colab": {
     "base_uri": "https://localhost:8080/",
     "height": 85
    },
    "id": "dXTrB8-TdL-1",
    "outputId": "849cf580-436d-4b71-f86d-399f271f581f"
   },
   "outputs": [
    {
     "name": "stdout",
     "output_type": "stream",
     "text": [
      "(50000, 32, 32, 3)\n",
      "(10000, 32, 32, 3)\n",
      "(50000, 10)\n",
      "(10000, 10)\n"
     ]
    }
   ],
   "source": [
    "print(x_train10.shape)\n",
    "print(x_test10.shape)\n",
    "print(y_train10.shape)\n",
    "print(y_test10.shape)"
   ]
  },
  {
   "cell_type": "markdown",
   "metadata": {
    "id": "dpqHnjMjcdCA"
   },
   "source": [
    "**Нейронная сеть**"
   ]
  },
  {
   "cell_type": "code",
   "execution_count": 41,
   "metadata": {
    "colab": {
     "base_uri": "https://localhost:8080/",
     "height": 962
    },
    "id": "PPfxYVf1duG2",
    "outputId": "f9a21020-8dd3-4549-e245-330f5fde01b4"
   },
   "outputs": [
    {
     "name": "stdout",
     "output_type": "stream",
     "text": [
      "Epoch 1/20\n",
      "391/391 [==============================] - 175s 446ms/step - loss: 1.4606 - accuracy: 0.4640 - val_loss: 1.2522 - val_accuracy: 0.5599\n",
      "Epoch 2/20\n",
      "391/391 [==============================] - 167s 426ms/step - loss: 1.0396 - accuracy: 0.6296 - val_loss: 0.8569 - val_accuracy: 0.6947\n",
      "Epoch 3/20\n",
      "391/391 [==============================] - 1848s 5s/step - loss: 0.8674 - accuracy: 0.6928 - val_loss: 0.8768 - val_accuracy: 0.7070\n",
      "Epoch 4/20\n",
      "391/391 [==============================] - 192s 490ms/step - loss: 0.7622 - accuracy: 0.7323 - val_loss: 0.7113 - val_accuracy: 0.7501\n",
      "Epoch 5/20\n",
      "391/391 [==============================] - 158s 404ms/step - loss: 0.6910 - accuracy: 0.7581 - val_loss: 0.6509 - val_accuracy: 0.7779\n",
      "Epoch 6/20\n",
      "391/391 [==============================] - 181s 462ms/step - loss: 0.6305 - accuracy: 0.7777 - val_loss: 0.6095 - val_accuracy: 0.7917\n",
      "Epoch 7/20\n",
      "391/391 [==============================] - 165s 421ms/step - loss: 0.5870 - accuracy: 0.7946 - val_loss: 0.6087 - val_accuracy: 0.7926\n",
      "Epoch 8/20\n",
      "391/391 [==============================] - 167s 427ms/step - loss: 0.5487 - accuracy: 0.8067 - val_loss: 0.6264 - val_accuracy: 0.7882\n",
      "Epoch 9/20\n",
      "391/391 [==============================] - 183s 468ms/step - loss: 0.5219 - accuracy: 0.8181 - val_loss: 0.5785 - val_accuracy: 0.8027\n",
      "Epoch 10/20\n",
      "391/391 [==============================] - 191s 489ms/step - loss: 0.4937 - accuracy: 0.8269 - val_loss: 0.5745 - val_accuracy: 0.8045\n",
      "Epoch 11/20\n",
      "391/391 [==============================] - 171s 438ms/step - loss: 0.4676 - accuracy: 0.8352 - val_loss: 0.6085 - val_accuracy: 0.7947\n",
      "Epoch 12/20\n",
      "391/391 [==============================] - 166s 425ms/step - loss: 0.4516 - accuracy: 0.8394 - val_loss: 0.5607 - val_accuracy: 0.8157\n",
      "Epoch 13/20\n",
      "391/391 [==============================] - 168s 430ms/step - loss: 0.4254 - accuracy: 0.8499 - val_loss: 0.5398 - val_accuracy: 0.8196\n",
      "Epoch 14/20\n",
      "391/391 [==============================] - 170s 436ms/step - loss: 0.4110 - accuracy: 0.8534 - val_loss: 0.5293 - val_accuracy: 0.8242\n",
      "Epoch 15/20\n",
      "391/391 [==============================] - 190s 487ms/step - loss: 0.3864 - accuracy: 0.8634 - val_loss: 0.5152 - val_accuracy: 0.8292\n",
      "Epoch 16/20\n",
      "391/391 [==============================] - 183s 468ms/step - loss: 0.3829 - accuracy: 0.8640 - val_loss: 0.5551 - val_accuracy: 0.8175\n",
      "Epoch 17/20\n",
      "391/391 [==============================] - 180s 459ms/step - loss: 0.3664 - accuracy: 0.8713 - val_loss: 0.5203 - val_accuracy: 0.8305\n",
      "Epoch 18/20\n",
      "391/391 [==============================] - 172s 439ms/step - loss: 0.3499 - accuracy: 0.8766 - val_loss: 0.5348 - val_accuracy: 0.8249\n",
      "Epoch 19/20\n",
      "391/391 [==============================] - 193s 492ms/step - loss: 0.3407 - accuracy: 0.8796 - val_loss: 0.5246 - val_accuracy: 0.8322\n",
      "Epoch 20/20\n",
      "391/391 [==============================] - 183s 469ms/step - loss: 0.3283 - accuracy: 0.8837 - val_loss: 0.5306 - val_accuracy: 0.8319\n"
     ]
    },
    {
     "data": {
      "image/png": "[encoded data removed]",
      "text/plain": [
       "<Figure size 432x288 with 1 Axes>"
      ]
     },
     "metadata": {
      "needs_background": "light"
     },
     "output_type": "display_data"
    }
   ],
   "source": [
    "batch_size = 128 \n",
    "\n",
    "model = Sequential()\n",
    "#Слой пакетной нормализации\n",
    "model.add(BatchNormalization(input_shape=(32, 32, 3)))\n",
    "#Первый сверточный слой\n",
    "model.add(Conv2D(32, (3, 3), padding='same', activation='relu'))\n",
    "#Второй сверточный слой\n",
    "model.add(Conv2D(32, (3, 3), padding='same', activation='relu'))\n",
    "#Первый слой подвыборки\n",
    "model.add(MaxPooling2D(pool_size=(2, 2)))\n",
    "\n",
    "model.add(Dropout(0.25))\n",
    "\n",
    "#Слой пакетной нормализации\n",
    "model.add(BatchNormalization())\n",
    "#Третий сверточный слой\n",
    "model.add(Conv2D(64, (3, 3), padding='same', activation='relu'))\n",
    "#Четвертый сверточный слой\n",
    "model.add(Conv2D(64, (3, 3), padding='same', activation='relu'))\n",
    "#Второй слой подвыборки\n",
    "model.add(MaxPooling2D(pool_size=(2, 2)))\n",
    "#Слой регуляризации Dropout\n",
    "model.add(Dropout(0.25))\n",
    "\n",
    "#Слой пакетной нормализации\n",
    "model.add(BatchNormalization())\n",
    "#Пятый сверточный слой\n",
    "model.add(Conv2D(128, (3, 3), padding='same', activation='relu'))\n",
    "#Шестой сверточный слой\n",
    "model.add(Conv2D(128, (3, 3), padding='same', activation='relu'))\n",
    "#Третий слой подвыборки\n",
    "model.add(MaxPooling2D(pool_size=(2, 2)))\n",
    "#Слой регуляризации Dropout\n",
    "model.add(Dropout(0.25))\n",
    "\n",
    "#Слой преобразования данных из 2D представления в плоское\n",
    "model.add(Flatten())\n",
    "#Полносвязный слой для классификации\n",
    "model.add(Dense(512, activation='relu'))\n",
    "#Слой регуляризации Dropout\n",
    "model.add(Dropout(0.25))\n",
    "#Выходной полносвязный слой\n",
    "model.add(Dense(10, activation='softmax'))\n",
    "\n",
    "#Компилируем сеть\n",
    "model.compile(loss=\"categorical_crossentropy\", optimizer=\"adam\", metrics=[\"accuracy\"])\n",
    "\n",
    "history = model.fit(x_train10, \n",
    "                    y_train10, \n",
    "                    batch_size=batch_size, \n",
    "                    epochs=20,\n",
    "                    validation_data=(x_test10, y_test10),\n",
    "                    verbose=1)\n",
    "\n",
    "plt.plot(history.history['accuracy'], \n",
    "         label='Доля верных ответов на обучающем наборе')\n",
    "plt.plot(history.history['val_accuracy'], \n",
    "         label='Доля верных ответов на проверочном наборе')\n",
    "plt.xlabel('Эпоха обучения')\n",
    "plt.ylabel('Доля верных ответов')\n",
    "plt.legend()\n",
    "plt.show()"
   ]
  },
  {
   "cell_type": "markdown",
   "metadata": {
    "id": "WwjAVmaZgbLd"
   },
   "source": [
    "**Определение изображений из тестовой выборки**"
   ]
  },
  {
   "cell_type": "code",
   "execution_count": 42,
   "metadata": {
    "id": "qTQEhiM1hV3l"
   },
   "outputs": [],
   "source": [
    "#Распознаём все тестовые картинки\n",
    "prediction = model.predict(x_test10)"
   ]
  },
  {
   "cell_type": "code",
   "execution_count": 43,
   "metadata": {
    "colab": {
     "base_uri": "https://localhost:8080/",
     "height": 351
    },
    "id": "oaF1locAgbLf",
    "outputId": "d3e0fdce-0b39-4f59-8249-0f4b96760104"
   },
   "outputs": [
    {
     "data": {
      "image/png": "[encoded data removed]",
      "text/plain": [
       "<Figure size 432x288 with 1 Axes>"
      ]
     },
     "metadata": {
      "needs_background": "light"
     },
     "output_type": "display_data"
    },
    {
     "name": "stdout",
     "output_type": "stream",
     "text": [
      "Выход сети:  [2.6731777e-11 4.8064818e-13 1.0032209e-06 6.8420163e-09 3.2214642e-02\n",
      " 2.6135138e-05 2.0727243e-11 9.6775818e-01 2.9800165e-16 7.8893494e-13]\n",
      "Распознанный образ:  7\n",
      "Верный ответ:  [0. 0. 0. 0. 0. 0. 0. 1. 0. 0.]\n",
      "Распознанный браз на картинке:  лошадь\n"
     ]
    }
   ],
   "source": [
    "n = np.random.randint(x_test10.shape[0])\n",
    "\n",
    "plt.imshow(Image.fromarray(x_test10[n]).convert('RGBA'))\n",
    "plt.show()\n",
    "\n",
    "print(\"Выход сети: \", prediction[n])\n",
    "print(\"Распознанный образ: \", np.argmax(prediction[n]))\n",
    "print(\"Верный ответ: \", y_test10[n])\n",
    "print(\"Распознанный браз на картинке: \", classes[np.argmax(prediction[n])])"
   ]
  }
 ],
 "metadata": {
  "accelerator": "GPU",
  "colab": {
   "collapsed_sections": [],
   "machine_shape": "hm",
   "name": "Сверточные нейронные сети (Университет искусственного интеллекта)",
   "provenance": []
  },
  "kernelspec": {
   "display_name": "Python 3",
   "language": "python",
   "name": "python3"
  },
  "language_info": {
   "codemirror_mode": {
    "name": "ipython",
    "version": 3
   },
   "file_extension": ".py",
   "mimetype": "text/x-python",
   "name": "python",
   "nbconvert_exporter": "python",
   "pygments_lexer": "ipython3",
   "version": "3.8.3"
  }
 },
 "nbformat": 4,
 "nbformat_minor": 1
}
