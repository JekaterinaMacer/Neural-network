{
  "nbformat": 4,
  "nbformat_minor": 0,
  "metadata": {
    "colab": {
      "name": "Распознавание рукописных цифр (Университет искусственного интеллекта)",
      "provenance": [],
      "collapsed_sections": [
        "jjqH_JaURnnK",
        "c4pg0HUQCdFk",
        "MMkWv4VhC2ti",
        "iD7hR5hXNLUe",
        "rrWmNM6jKBrc",
        "rstrtRs2O1so",
        "5BUXluCMWpMB",
        "dntk9WK6TbA-",
        "6tP0Iq2NX9qK",
        "c3-PovDMb2TU",
        "n3UgLD14-l72",
        "qLX9aj3eFCPB",
        "Pa2_uq889QCz"
      ]
    },
    "kernelspec": {
      "name": "python3",
      "display_name": "Python 3"
    },
    "accelerator": "GPU"
  },
  "cells": [
    {
      "cell_type": "markdown",
      "metadata": {
        "id": "vBvuSQtdCyPq"
      },
      "source": [
        "Чтобы запускать и редактировать код, сохраните копию этого ноутбука себе (File->Save a copy in Drive...). Свою копию вы сможете изменять и запускать."
      ]
    },
    {
      "cell_type": "markdown",
      "metadata": {
        "id": "nqZpzs2nBs63"
      },
      "source": [
        "# Распознавание рукописных цифр MNIST"
      ]
    },
    {
      "cell_type": "markdown",
      "metadata": {
        "id": "qLX9aj3eFCPB"
      },
      "source": [
        "## Подготовка данных\n",
        "\n",
        "*Разбор данного раздела:* https://youtu.be/Vd_1LDedB0Y?t=323"
      ]
    },
    {
      "cell_type": "code",
      "metadata": {
        "id": "co9Q1s42SciM"
      },
      "source": [
        "from tensorflow.keras.datasets import mnist #Библиотека с базой Mnist\n",
        "from tensorflow.keras.models import Sequential # Подлючаем класс создания модели Sequential\n",
        "from tensorflow.keras.layers import Dense # Подключаем класс Dense - полносвязный слой\n",
        "from tensorflow.keras.optimizers import Adam # Подключаем оптимизатор Adam\n",
        "from tensorflow.keras import utils #Утилиты для to_categorical\n",
        "from tensorflow.keras.preprocessing import image #Для отрисовки изображения\n",
        "import numpy as np # Подключаем библиотеку numpy\n",
        "import pylab # Модуль для построения графиков\n",
        "from mpl_toolkits.mplot3d import Axes3D # Модуль для трехмерной графики\n",
        "from google.colab import files #Для загрузки своей картинки\n",
        "import matplotlib.pyplot as plt #Отрисовка изображений\n",
        "from PIL import Image #Отрисовка изображений\n",
        "#Отрисовывать изображения в ноутбуке, а не в консоль или файл\n",
        "%matplotlib inline "
      ],
      "execution_count": 1,
      "outputs": []
    },
    {
      "cell_type": "code",
      "metadata": {
        "id": "xnYVjcnJC4TY",
        "colab": {
          "base_uri": "https://localhost:8080/"
        },
        "outputId": "cb7ce7ef-eda0-4dca-cb85-e1779cd09ea6"
      },
      "source": [
        "(x_train_org, y_train_org), (x_test_org, y_test_org) = mnist.load_data() #Загрузка данных Mnist"
      ],
      "execution_count": 2,
      "outputs": [
        {
          "output_type": "stream",
          "name": "stdout",
          "text": [
            "Downloading data from https://storage.googleapis.com/tensorflow/tf-keras-datasets/mnist.npz\n",
            "11493376/11490434 [==============================] - 0s 0us/step\n",
            "11501568/11490434 [==============================] - 0s 0us/step\n"
          ]
        }
      ]
    },
    {
      "cell_type": "code",
      "metadata": {
        "id": "ixb5KVPvdHT7",
        "colab": {
          "base_uri": "https://localhost:8080/"
        },
        "outputId": "24b42fc5-a5aa-4ef2-d572-687ede384864"
      },
      "source": [
        "x_train_org.shape"
      ],
      "execution_count": 3,
      "outputs": [
        {
          "output_type": "execute_result",
          "data": {
            "text/plain": [
              "(60000, 28, 28)"
            ]
          },
          "metadata": {},
          "execution_count": 3
        }
      ]
    },
    {
      "cell_type": "code",
      "metadata": {
        "id": "ts-z0Oh_EJJ_",
        "colab": {
          "base_uri": "https://localhost:8080/",
          "height": 265
        },
        "outputId": "3f2826d5-2532-47ed-bbd9-3b20b2682346"
      },
      "source": [
        "n = 143 #Номер картинки\n",
        "plt.imshow(Image.fromarray(x_train_org[n]).convert('RGB')) #Отрисовка картинки\n",
        "plt.show() # Вывод картинки"
      ],
      "execution_count": 4,
      "outputs": [
        {
          "output_type": "display_data",
          "data": {
            "image/png": "[encoded data removed]",
            "text/plain": [
              "<Figure size 432x288 with 1 Axes>"
            ]
          },
          "metadata": {
            "needs_background": "light"
          }
        }
      ]
    },
    {
      "cell_type": "code",
      "metadata": {
        "id": "3D8FrTQMx8cs",
        "colab": {
          "base_uri": "https://localhost:8080/"
        },
        "outputId": "92068967-5318-4c0e-f476-65482ecd6989"
      },
      "source": [
        "y_train_org[n]"
      ],
      "execution_count": 5,
      "outputs": [
        {
          "output_type": "execute_result",
          "data": {
            "text/plain": [
              "2"
            ]
          },
          "metadata": {},
          "execution_count": 5
        }
      ]
    },
    {
      "cell_type": "code",
      "metadata": {
        "id": "StxOw0C6EQQd",
        "colab": {
          "base_uri": "https://localhost:8080/"
        },
        "outputId": "050fd21e-faa3-489f-b13c-fea2ff31b91b"
      },
      "source": [
        "#Меняем формат входных картинок с 28х28 на 784х1\n",
        "x_train = x_train_org.reshape(60000, 784)\n",
        "x_test = x_test_org.reshape(10000, 784)\n",
        "print(x_train_org.shape)\n",
        "print(x_train.shape)"
      ],
      "execution_count": 6,
      "outputs": [
        {
          "output_type": "stream",
          "name": "stdout",
          "text": [
            "(60000, 28, 28)\n",
            "(60000, 784)\n"
          ]
        }
      ]
    },
    {
      "cell_type": "code",
      "metadata": {
        "id": "R5cW-u8eEXBN"
      },
      "source": [
        "#Нормализуем входные картинки\n",
        "x_train = x_train.astype('float32') # преобразовываем x_train в тип float (цифры с плавающей точкой)\n",
        "x_train = x_train / 255 # делим на 255, чтобы диапазон был от 0 до 1\n",
        "x_test = x_test.astype('float32') # преобразовываем x_test в тип float (цифры с плавающей точкой)\n",
        "x_test = x_test / 255 # делим на 255, чтобы диапазон был от 0 до 1"
      ],
      "execution_count": 7,
      "outputs": []
    },
    {
      "cell_type": "code",
      "metadata": {
        "id": "BHfS_QDay14q",
        "colab": {
          "base_uri": "https://localhost:8080/"
        },
        "outputId": "531640de-578d-49ec-cc1f-e349e306a723"
      },
      "source": [
        "y_train_org[0]"
      ],
      "execution_count": 8,
      "outputs": [
        {
          "output_type": "execute_result",
          "data": {
            "text/plain": [
              "5"
            ]
          },
          "metadata": {},
          "execution_count": 8
        }
      ]
    },
    {
      "cell_type": "code",
      "metadata": {
        "id": "zrxFxFA5EsVU"
      },
      "source": [
        "# Преобразуем ответы в формат one_hot_encoding\n",
        "y_train = utils.to_categorical(y_train_org, 10)\n",
        "y_test = utils.to_categorical(y_test_org, 10)"
      ],
      "execution_count": 9,
      "outputs": []
    },
    {
      "cell_type": "code",
      "metadata": {
        "id": "7AiDf79FE2Xk",
        "colab": {
          "base_uri": "https://localhost:8080/"
        },
        "outputId": "14dff684-64ac-4522-fb9f-64004e95cfca"
      },
      "source": [
        "#Выводим размер y_train\n",
        "#60 тысяч примеров, каждый размера 10 (так как 10 классов)\n",
        "print(y_train.shape)"
      ],
      "execution_count": 10,
      "outputs": [
        {
          "output_type": "stream",
          "name": "stdout",
          "text": [
            "(60000, 10)\n"
          ]
        }
      ]
    },
    {
      "cell_type": "code",
      "metadata": {
        "id": "i7MZ1HbBE7me",
        "colab": {
          "base_uri": "https://localhost:8080/"
        },
        "outputId": "4973487c-206a-42ad-8196-edcc69c5dba3"
      },
      "source": [
        "print(y_train[0]) #Выводим пример одного выходного вектора"
      ],
      "execution_count": 11,
      "outputs": [
        {
          "output_type": "stream",
          "name": "stdout",
          "text": [
            "[0. 0. 0. 0. 0. 1. 0. 0. 0. 0.]\n"
          ]
        }
      ]
    },
    {
      "cell_type": "code",
      "metadata": {
        "id": "LyIjTL5BNxus",
        "colab": {
          "base_uri": "https://localhost:8080/"
        },
        "outputId": "679b525e-da90-4642-91ad-754e8d47596b"
      },
      "source": [
        "print(y_train_org.shape)"
      ],
      "execution_count": 12,
      "outputs": [
        {
          "output_type": "stream",
          "name": "stdout",
          "text": [
            "(60000,)\n"
          ]
        }
      ]
    },
    {
      "cell_type": "code",
      "metadata": {
        "id": "L6kqzxeiN0IK",
        "colab": {
          "base_uri": "https://localhost:8080/"
        },
        "outputId": "ff2ad514-f783-41c5-f32a-52c80ec10e80"
      },
      "source": [
        "print(y_train_org[36])"
      ],
      "execution_count": 13,
      "outputs": [
        {
          "output_type": "stream",
          "name": "stdout",
          "text": [
            "6\n"
          ]
        }
      ]
    },
    {
      "cell_type": "markdown",
      "metadata": {
        "id": "TR6ua7t7FEzn"
      },
      "source": [
        "## Создание нейронной сети\n",
        "\n",
        "*Разбор данного раздела:* https://youtu.be/Vd_1LDedB0Y?t=1022"
      ]
    },
    {
      "cell_type": "code",
      "metadata": {
        "id": "odi8yVyxE-w5"
      },
      "source": [
        "model = Sequential() # Создаём сеть прямого распространения\n",
        "model.add(Dense(800, input_dim=784, activation=\"relu\")) # Добавляем полносвязный слой на 800 нейронов с relu-активацией\n",
        "model.add(Dense(400, activation=\"relu\")) # Добавляем полносвязный слой на 400 нейронов с relu-активацией\n",
        "model.add(Dense(10, activation=\"softmax\")) # Добавляем полносвязный слой на 10 нейронов с softmax-активацией"
      ],
      "execution_count": 14,
      "outputs": []
    },
    {
      "cell_type": "code",
      "metadata": {
        "id": "6EMUkxTqFkc1",
        "colab": {
          "base_uri": "https://localhost:8080/"
        },
        "outputId": "9f888c69-02cd-49cf-f2e3-6ba9a5a27359"
      },
      "source": [
        "model.compile(loss=\"categorical_crossentropy\", optimizer=\"adam\", metrics=[\"accuracy\"]) # Компилируем модель\n",
        "print(model.summary()) #Вывод структуры модели"
      ],
      "execution_count": 15,
      "outputs": [
        {
          "output_type": "stream",
          "name": "stdout",
          "text": [
            "Model: \"sequential\"\n",
            "_________________________________________________________________\n",
            "Layer (type)                 Output Shape              Param #   \n",
            "=================================================================\n",
            "dense (Dense)                (None, 800)               628000    \n",
            "_________________________________________________________________\n",
            "dense_1 (Dense)              (None, 400)               320400    \n",
            "_________________________________________________________________\n",
            "dense_2 (Dense)              (None, 10)                4010      \n",
            "=================================================================\n",
            "Total params: 952,410\n",
            "Trainable params: 952,410\n",
            "Non-trainable params: 0\n",
            "_________________________________________________________________\n",
            "None\n"
          ]
        }
      ]
    },
    {
      "cell_type": "markdown",
      "metadata": {
        "id": "H4WWjjxnF3qn"
      },
      "source": [
        "## Обучение нейронной сети\n",
        "\n",
        "*Разбор данного раздела:* https://youtu.be/Vd_1LDedB0Y?t=1456"
      ]
    },
    {
      "cell_type": "code",
      "metadata": {
        "id": "tzArU3n3F6Lo",
        "colab": {
          "base_uri": "https://localhost:8080/",
          "height": 544
        },
        "outputId": "905e6634-7e13-414f-ae16-cfbd6efbe267"
      },
      "source": [
        "#fit - функция обучения нейронки\n",
        "#x_train, y_train - обучающая выборка, входные и выходные данные\n",
        "#batch_size - размер батча, количество примеров, которое обрабатывает нейронка перед одним изменением весов\n",
        "#epochs - количество эпох, когда нейронка обучается на всех примерах выборки\n",
        "#verbose - 0 - не визуализировать ход обучения, 1 - визуализировать\n",
        "model.fit(x_train, y_train, batch_size=128, epochs=15, verbose=1)"
      ],
      "execution_count": null,
      "outputs": [
        {
          "output_type": "stream",
          "text": [
            "Epoch 1/15\n",
            "469/469 [==============================] - 2s 4ms/step - loss: 0.2014 - accuracy: 0.9395\n",
            "Epoch 2/15\n",
            "469/469 [==============================] - 2s 4ms/step - loss: 0.0745 - accuracy: 0.9776\n",
            "Epoch 3/15\n",
            "469/469 [==============================] - 2s 4ms/step - loss: 0.0499 - accuracy: 0.9840\n",
            "Epoch 4/15\n",
            "469/469 [==============================] - 2s 4ms/step - loss: 0.0338 - accuracy: 0.9891\n",
            "Epoch 5/15\n",
            "469/469 [==============================] - 2s 4ms/step - loss: 0.0251 - accuracy: 0.9919\n",
            "Epoch 6/15\n",
            "469/469 [==============================] - 2s 4ms/step - loss: 0.0201 - accuracy: 0.9932\n",
            "Epoch 7/15\n",
            "469/469 [==============================] - 2s 4ms/step - loss: 0.0195 - accuracy: 0.9937\n",
            "Epoch 8/15\n",
            "469/469 [==============================] - 2s 4ms/step - loss: 0.0163 - accuracy: 0.9944\n",
            "Epoch 9/15\n",
            "469/469 [==============================] - 2s 4ms/step - loss: 0.0123 - accuracy: 0.9960\n",
            "Epoch 10/15\n",
            "469/469 [==============================] - 2s 4ms/step - loss: 0.0147 - accuracy: 0.9952\n",
            "Epoch 11/15\n",
            "469/469 [==============================] - 2s 4ms/step - loss: 0.0132 - accuracy: 0.9955\n",
            "Epoch 12/15\n",
            "469/469 [==============================] - 2s 4ms/step - loss: 0.0113 - accuracy: 0.9962\n",
            "Epoch 13/15\n",
            "469/469 [==============================] - 2s 4ms/step - loss: 0.0119 - accuracy: 0.9963\n",
            "Epoch 14/15\n",
            "469/469 [==============================] - 2s 4ms/step - loss: 0.0066 - accuracy: 0.9977\n",
            "Epoch 15/15\n",
            "469/469 [==============================] - 2s 4ms/step - loss: 0.0072 - accuracy: 0.9980\n"
          ],
          "name": "stdout"
        },
        {
          "output_type": "execute_result",
          "data": {
            "text/plain": [
              "<tensorflow.python.keras.callbacks.History at 0x7f9d90170f28>"
            ]
          },
          "metadata": {
            "tags": []
          },
          "execution_count": 21
        }
      ]
    },
    {
      "cell_type": "code",
      "metadata": {
        "id": "nmxH0W_QSOIX"
      },
      "source": [
        "model.save_weights('model.h5')\n",
        "model.load_weights('model.h5')"
      ],
      "execution_count": null,
      "outputs": []
    },
    {
      "cell_type": "markdown",
      "metadata": {
        "id": "ExUOoWQOGvw6"
      },
      "source": [
        "## Распознавание рукописных цифр\n",
        "\n",
        "*Разбор данного раздела:* https://youtu.be/Vd_1LDedB0Y?t=1870"
      ]
    },
    {
      "cell_type": "code",
      "metadata": {
        "id": "ydE7Bb-5G82-",
        "colab": {
          "base_uri": "https://localhost:8080/",
          "height": 265
        },
        "outputId": "55dc129c-8624-49ce-dd99-2b9e91012fcf"
      },
      "source": [
        "n_rec = 387 #Номер тестовой цифры, которую будем распознавать\n",
        "plt.imshow(Image.fromarray(x_test_org[n_rec]).convert('RGBA')) # Нарисуем картинку из тестового набора под номером n_rec\n",
        "plt.show()"
      ],
      "execution_count": null,
      "outputs": [
        {
          "output_type": "display_data",
          "data": {
            "image/png": "[encoded data removed]",
            "text/plain": [
              "<Figure size 432x288 with 1 Axes>"
            ]
          },
          "metadata": {
            "tags": [],
            "needs_background": "light"
          }
        }
      ]
    },
    {
      "cell_type": "code",
      "metadata": {
        "id": "_85gvY6uHABc",
        "colab": {
          "base_uri": "https://localhost:8080/",
          "height": 34
        },
        "outputId": "5d218a79-c3cb-4eb3-980a-204fee09cca2"
      },
      "source": [
        "#Выбираем нужную картинку из тестовой выборки\n",
        "x = x_test[n_rec]\n",
        "print(x.shape)"
      ],
      "execution_count": null,
      "outputs": [
        {
          "output_type": "stream",
          "text": [
            "(784,)\n"
          ],
          "name": "stdout"
        }
      ]
    },
    {
      "cell_type": "code",
      "metadata": {
        "id": "IljyFhj0HPPC",
        "colab": {
          "base_uri": "https://localhost:8080/",
          "height": 34
        },
        "outputId": "c0a72e25-ffe7-4655-a774-c9dc0fcf2836"
      },
      "source": [
        "#Добавляем одну размерность в конце, чтобы нейронка могла распознать пример\n",
        "#Потому что нейронка принимает именно массив примеров для распознавания\n",
        "#Мы делаем массив из одного примера\n",
        "x = np.expand_dims(x, axis=0)\n",
        "print(x.shape)"
      ],
      "execution_count": null,
      "outputs": [
        {
          "output_type": "stream",
          "text": [
            "(1, 784)\n"
          ],
          "name": "stdout"
        }
      ]
    },
    {
      "cell_type": "code",
      "metadata": {
        "id": "VigT6aeAHQ91"
      },
      "source": [
        "prediction = model.predict(x) #Распознаём наш пример"
      ],
      "execution_count": null,
      "outputs": []
    },
    {
      "cell_type": "code",
      "metadata": {
        "id": "fGF9xUCRHSOE",
        "colab": {
          "base_uri": "https://localhost:8080/",
          "height": 51
        },
        "outputId": "41313d6c-5d31-433d-95d1-5bc4e1ef8f2f"
      },
      "source": [
        "print(prediction) #Выводим результат, это 10 цифр"
      ],
      "execution_count": null,
      "outputs": [
        {
          "output_type": "stream",
          "text": [
            "[[3.6816719e-16 1.0550489e-07 9.9999988e-01 1.9557635e-10 1.6053264e-16\n",
            "  4.2969881e-11 6.2810386e-12 1.7563030e-08 4.5943116e-10 8.6858957e-16]]\n"
          ],
          "name": "stdout"
        }
      ]
    },
    {
      "cell_type": "code",
      "metadata": {
        "id": "LKR0oFGAYyFi",
        "colab": {
          "base_uri": "https://localhost:8080/",
          "height": 34
        },
        "outputId": "4f98a8f4-8b2c-444b-b864-48732b827441"
      },
      "source": [
        "sum(prediction[0])"
      ],
      "execution_count": null,
      "outputs": [
        {
          "output_type": "execute_result",
          "data": {
            "text/plain": [
              "1.0000000045628887"
            ]
          },
          "metadata": {
            "tags": []
          },
          "execution_count": 50
        }
      ]
    },
    {
      "cell_type": "code",
      "metadata": {
        "id": "9pg67PW9HV4A",
        "colab": {
          "base_uri": "https://localhost:8080/",
          "height": 34
        },
        "outputId": "a9fab8ba-86dd-4247-8ad6-490b4bd2c66f"
      },
      "source": [
        "pred = np.argmax(prediction) # Получаем индекс самого большого элемента (это итоговая цифра, которую распознала сеть)\n",
        "print(pred)"
      ],
      "execution_count": null,
      "outputs": [
        {
          "output_type": "stream",
          "text": [
            "2\n"
          ],
          "name": "stdout"
        }
      ]
    },
    {
      "cell_type": "code",
      "metadata": {
        "id": "72Rbs1E9HeRZ",
        "colab": {
          "base_uri": "https://localhost:8080/",
          "height": 34
        },
        "outputId": "4d75d22e-1c3d-47ac-eac8-fa4e8e78be65"
      },
      "source": [
        "print(y_test_org[n_rec]) #выводим правильный ответ, для сравнения"
      ],
      "execution_count": null,
      "outputs": [
        {
          "output_type": "stream",
          "text": [
            "2\n"
          ],
          "name": "stdout"
        }
      ]
    },
    {
      "cell_type": "markdown",
      "metadata": {
        "id": "Pa2_uq889QCz"
      },
      "source": [
        "# Глоссарий"
      ]
    },
    {
      "cell_type": "markdown",
      "metadata": {
        "id": "uGF-KxJX9Uyx"
      },
      "source": [
        "**Функции активации**\n",
        "\n",
        "https://keras.io/activations/ - документация\n",
        "\n",
        "https://ru-keras.com/activation-function/ - русскоязычная документация\n",
        "\n",
        "*   sigmoid - на выходе значения от 0 до 1\n",
        "*   relu - на выходе значения от 0 до +∞\n",
        "*   tanh - на выходе значения от -1 до +1\n",
        "*   softmax - сумма значения выходов всех нейронов равна 1\n",
        "\n",
        "**Функции ошибок**\n",
        "\n",
        "https://keras.io/losses/ - документация\n",
        "\n",
        "https://ru-keras.com/loss/ - русскоязычная документация\n",
        "\n",
        "\n",
        "*   mse - среднеквадратичное отклонение\n",
        "*   mae - среднее абсолютное значение\n",
        "*   binary_crossentropy - бинарная кроссэнтропия\n",
        "*   categorical_crossentropy - категориальная кроссэнтропия\n",
        "\n",
        "**Оптимизаторы**\n",
        "\n",
        "https://keras.io/optimizers/ - документация\n",
        "\n",
        "https://ru-keras.com/optimizer/ - русскоязычная документация\n",
        "\n",
        "\n",
        "\n",
        "*   Adam\n",
        "*   RMSProp\n",
        "*   Adadelta\n",
        "\n",
        "**Градиентный спуск** - процесс поиска минимума функции ошибки\n",
        "\n",
        "**MNIST** - набор изображений рукописных цифр 28х28 пикселей\n",
        "\n",
        "**Способы обучения сети:**\n",
        "\n",
        "*   .train_on_batch - один шаг обучения на фиксированном наборе данных\n",
        "*   .fit - итерационное обучение сети с возможностью указания количества итераций (epochs) и размера пакета с обучающими данными (batch_size)\n",
        "\n",
        "**Загрузка изображения**\n",
        "\n",
        "image.load_img(path, target_size=(28, 28), color_mode = ‘grayscale’)\n",
        "\n",
        "\n",
        "\n"
      ]
    }
  ]
}