{
 "cells": [
  {
   "cell_type": "markdown",
   "metadata": {
    "id": "vBvuSQtdCyPq"
   },
   "source": [
    "### Задание № 2 Ultra Lite\n",
    "\n",
    "\n",
    "#### Полносвязные сети, обучающая и тестовая выборки"
   ]
  },
  {
   "cell_type": "markdown",
   "metadata": {
    "id": "nqZpzs2nBs63"
   },
   "source": [
    "Создайте модель для распознавания рукописных цифр из набора MNIST (можно воспользоваться ноутбуком 1-го занятия) и проведите ряд тестов:\n",
    "\n",
    "Запустите сеть с различными размерами обучающей и проверочной выборок:\n",
    "\n",
    "Размер test_size=0.1\n",
    "\n",
    "Размер test_size=0.5\n",
    "\n",
    "Размер test_size=0.9\n",
    "\n",
    "Напишите выводы, как изменение test_size влияет на точность сети.\n"
   ]
  },
  {
   "cell_type": "markdown",
   "metadata": {
    "id": "qLX9aj3eFCPB"
   },
   "source": [
    "#### 1. Импорт библиотек."
   ]
  },
  {
   "cell_type": "code",
   "execution_count": 118,
   "metadata": {
    "id": "co9Q1s42SciM"
   },
   "outputs": [],
   "source": [
    "from tensorflow.keras.datasets import mnist #Библиотека с базой Mnist\n",
    "from tensorflow.keras.models import Sequential # Подлючаем класс создания модели Sequential\n",
    "from tensorflow.keras.layers import Dense # Подключаем класс Dense - полносвязный слой\n",
    "from tensorflow.keras.optimizers import Adam # Подключаем оптимизатор Adam\n",
    "from tensorflow.keras import utils #Утилиты для to_categorical\n",
    "from tensorflow.keras.preprocessing import image #Для отрисовки изображения\n",
    "import numpy as np # Подключаем библиотеку numpy\n",
    "import pandas as pd # Библиотека pandas\n",
    "from sklearn.model_selection import train_test_split\n",
    "import pylab # Модуль для построения графиков\n",
    "from mpl_toolkits.mplot3d import Axes3D # Модуль для трехмерной графики\n",
    "import matplotlib.pyplot as plt #Отрисовка изображений\n",
    "from PIL import Image #Отрисовка изображений\n",
    "%matplotlib inline "
   ]
  },
  {
   "cell_type": "markdown",
   "metadata": {},
   "source": [
    "#### 2. Загрузка базы mnist."
   ]
  },
  {
   "cell_type": "code",
   "execution_count": 250,
   "metadata": {
    "colab": {
     "base_uri": "https://localhost:8080/"
    },
    "id": "xnYVjcnJC4TY",
    "outputId": "cb7ce7ef-eda0-4dca-cb85-e1779cd09ea6",
    "scrolled": true
   },
   "outputs": [],
   "source": [
    "(x_train_org, y_train_org), (x_test_org, y_test_org) = mnist.load_data() "
   ]
  },
  {
   "cell_type": "code",
   "execution_count": 251,
   "metadata": {
    "scrolled": true
   },
   "outputs": [
    {
     "name": "stdout",
     "output_type": "stream",
     "text": [
      "<class 'numpy.ndarray'>\n"
     ]
    }
   ],
   "source": [
    "print(type(x_train_org))"
   ]
  },
  {
   "cell_type": "code",
   "execution_count": 252,
   "metadata": {},
   "outputs": [
    {
     "name": "stdout",
     "output_type": "stream",
     "text": [
      "Length of array: 60000 Length of array: 10000\n"
     ]
    }
   ],
   "source": [
    "print(\"Length of array:\",len(x_train_org),\"Length of array:\",len(x_test_org))"
   ]
  },
  {
   "cell_type": "code",
   "execution_count": 253,
   "metadata": {},
   "outputs": [],
   "source": [
    "X = np.concatenate((x_train_org, x_test_org))"
   ]
  },
  {
   "cell_type": "code",
   "execution_count": 254,
   "metadata": {},
   "outputs": [
    {
     "data": {
      "text/plain": [
       "array([5, 0, 4, ..., 4, 5, 6], dtype=uint8)"
      ]
     },
     "execution_count": 254,
     "metadata": {},
     "output_type": "execute_result"
    }
   ],
   "source": [
    "Y = np.concatenate((y_train_org, y_test_org))\n",
    "Y"
   ]
  },
  {
   "cell_type": "code",
   "execution_count": 255,
   "metadata": {},
   "outputs": [
    {
     "name": "stdout",
     "output_type": "stream",
     "text": [
      "Length of array: 70000 70000\n"
     ]
    }
   ],
   "source": [
    "\n",
    "print (\"Length of array:\",len(X), len(Y))"
   ]
  },
  {
   "cell_type": "code",
   "execution_count": 256,
   "metadata": {},
   "outputs": [
    {
     "data": {
      "image/png": "[encoded data removed]",
      "text/plain": [
       "<Figure size 432x288 with 1 Axes>"
      ]
     },
     "metadata": {
      "needs_background": "light"
     },
     "output_type": "display_data"
    }
   ],
   "source": [
    "n = 144 #Номер картинки\n",
    "plt.imshow(Image.fromarray(X[n]).convert('RGB')) #Отрисовка картинки\n",
    "plt.show() # Вывод картинки"
   ]
  },
  {
   "cell_type": "code",
   "execution_count": 257,
   "metadata": {},
   "outputs": [
    {
     "data": {
      "text/plain": [
       "8"
      ]
     },
     "execution_count": 257,
     "metadata": {},
     "output_type": "execute_result"
    }
   ],
   "source": [
    "Y[n]"
   ]
  },
  {
   "cell_type": "markdown",
   "metadata": {},
   "source": [
    "## Размер test_size=0.1"
   ]
  },
  {
   "cell_type": "code",
   "execution_count": 260,
   "metadata": {},
   "outputs": [
    {
     "name": "stdout",
     "output_type": "stream",
     "text": [
      "(63000, 28, 28)\n",
      "(7000, 28, 28)\n",
      "(63000,)\n",
      "(7000,)\n"
     ]
    }
   ],
   "source": [
    "# test_size=0.1 - будет выделено 10% от тренировочных данных \n",
    "\n",
    "x_train_1, x_test_1, y_train_1, y_test_1 = train_test_split(X, Y, test_size=0.1, shuffle=True)    \n",
    "print (x_train_1.shape)\n",
    "print (x_test_1.shape)\n",
    "print (y_train_1.shape)\n",
    "print (y_test_1.shape)"
   ]
  },
  {
   "cell_type": "code",
   "execution_count": 261,
   "metadata": {
    "colab": {
     "base_uri": "https://localhost:8080/"
    },
    "id": "StxOw0C6EQQd",
    "outputId": "050fd21e-faa3-489f-b13c-fea2ff31b91b"
   },
   "outputs": [
    {
     "name": "stdout",
     "output_type": "stream",
     "text": [
      "(63000, 28, 28)\n",
      "(63000, 784)\n",
      "(7000, 784)\n",
      "(63000,)\n",
      "(7000,)\n"
     ]
    }
   ],
   "source": [
    "#Меняем формат входных картинок с 28х28 на 784х1\n",
    "x_train = x_train_1.reshape(63000, 784)\n",
    "x_test = x_test_1.reshape(7000, 784)\n",
    "print(x_train_1.shape)\n",
    "print(x_train.shape)\n",
    "print(x_test.shape)\n",
    "print(y_train_1.shape)\n",
    "print(y_test_1.shape)"
   ]
  },
  {
   "cell_type": "markdown",
   "metadata": {},
   "source": [
    "#### 3. Нормирование и преобразование x_train и y_train."
   ]
  },
  {
   "cell_type": "code",
   "execution_count": 262,
   "metadata": {
    "id": "R5cW-u8eEXBN"
   },
   "outputs": [],
   "source": [
    "#Нормализуем входные картинки\n",
    "x_train = x_train.astype('float32') # преобразовываем x_train в тип float (цифры с плавающей точкой)\n",
    "x_train = x_train / 255 # делим на 255, чтобы диапазон был от 0 до 1\n",
    "x_test = x_test.astype('float32') # преобразовываем x_test в тип float (цифры с плавающей точкой)\n",
    "x_test = x_test / 255 # делим на 255, чтобы диапазон был от 0 до 1"
   ]
  },
  {
   "cell_type": "code",
   "execution_count": 263,
   "metadata": {
    "colab": {
     "base_uri": "https://localhost:8080/"
    },
    "id": "BHfS_QDay14q",
    "outputId": "531640de-578d-49ec-cc1f-e349e306a723"
   },
   "outputs": [
    {
     "data": {
      "text/plain": [
       "6"
      ]
     },
     "execution_count": 263,
     "metadata": {},
     "output_type": "execute_result"
    }
   ],
   "source": [
    "y_train_1[0]"
   ]
  },
  {
   "cell_type": "code",
   "execution_count": 264,
   "metadata": {
    "id": "zrxFxFA5EsVU"
   },
   "outputs": [],
   "source": [
    "# Преобразуем ответы в формат one_hot_encoding\n",
    "y_train = utils.to_categorical(y_train_1, 10)\n",
    "y_test = utils.to_categorical(y_test_1, 10)"
   ]
  },
  {
   "cell_type": "code",
   "execution_count": 265,
   "metadata": {
    "colab": {
     "base_uri": "https://localhost:8080/"
    },
    "id": "7AiDf79FE2Xk",
    "outputId": "14dff684-64ac-4522-fb9f-64004e95cfca"
   },
   "outputs": [
    {
     "name": "stdout",
     "output_type": "stream",
     "text": [
      "(63000, 10)\n"
     ]
    }
   ],
   "source": [
    "#Выводим размер y_train\n",
    "#60 тысяч примеров, каждый размера 10 (так как 10 классов)\n",
    "print(y_train.shape)"
   ]
  },
  {
   "cell_type": "markdown",
   "metadata": {
    "id": "TR6ua7t7FEzn"
   },
   "source": [
    "#### 4. Создание нейронной сети."
   ]
  },
  {
   "cell_type": "code",
   "execution_count": 266,
   "metadata": {
    "id": "odi8yVyxE-w5"
   },
   "outputs": [],
   "source": [
    "model = Sequential() # Создаём сеть прямого распространения\n",
    "model.add(Dense(800, input_dim=784, activation=\"relu\")) # Добавляем полносвязный слой на 800 нейронов с relu-активацией\n",
    "model.add(Dense(400, activation=\"relu\")) # Добавляем полносвязный слой на 400 нейронов с relu-активацией\n",
    "model.add(Dense(10, activation=\"softmax\")) # Добавляем полносвязный слой на 10 нейронов с softmax-активацией"
   ]
  },
  {
   "cell_type": "code",
   "execution_count": 267,
   "metadata": {
    "colab": {
     "base_uri": "https://localhost:8080/"
    },
    "id": "6EMUkxTqFkc1",
    "outputId": "9f888c69-02cd-49cf-f2e3-6ba9a5a27359"
   },
   "outputs": [
    {
     "name": "stdout",
     "output_type": "stream",
     "text": [
      "Model: \"sequential_5\"\n",
      "_________________________________________________________________\n",
      "Layer (type)                 Output Shape              Param #   \n",
      "=================================================================\n",
      "dense_15 (Dense)             (None, 800)               628000    \n",
      "_________________________________________________________________\n",
      "dense_16 (Dense)             (None, 400)               320400    \n",
      "_________________________________________________________________\n",
      "dense_17 (Dense)             (None, 10)                4010      \n",
      "=================================================================\n",
      "Total params: 952,410\n",
      "Trainable params: 952,410\n",
      "Non-trainable params: 0\n",
      "_________________________________________________________________\n",
      "None\n"
     ]
    }
   ],
   "source": [
    "model.compile(loss=\"categorical_crossentropy\", optimizer=\"adam\", metrics=[\"accuracy\"]) # Компилируем модель\n",
    "print(model.summary()) #Вывод структуры модели"
   ]
  },
  {
   "cell_type": "markdown",
   "metadata": {
    "id": "H4WWjjxnF3qn"
   },
   "source": [
    "#### 5. Обучение нейронной сети."
   ]
  },
  {
   "cell_type": "code",
   "execution_count": 268,
   "metadata": {
    "colab": {
     "base_uri": "https://localhost:8080/",
     "height": 544
    },
    "id": "tzArU3n3F6Lo",
    "outputId": "905e6634-7e13-414f-ae16-cfbd6efbe267"
   },
   "outputs": [
    {
     "name": "stdout",
     "output_type": "stream",
     "text": [
      "Epoch 1/14\n",
      "493/493 [==============================] - 3s 6ms/step - loss: 0.1985 - accuracy: 0.9409\n",
      "Epoch 2/14\n",
      "493/493 [==============================] - 3s 6ms/step - loss: 0.0730 - accuracy: 0.9774\n",
      "Epoch 3/14\n",
      "493/493 [==============================] - 3s 6ms/step - loss: 0.0465 - accuracy: 0.9855\n",
      "Epoch 4/14\n",
      "493/493 [==============================] - 3s 6ms/step - loss: 0.0327 - accuracy: 0.9891\n",
      "Epoch 5/14\n",
      "493/493 [==============================] - 3s 6ms/step - loss: 0.0251 - accuracy: 0.9917\n",
      "Epoch 6/14\n",
      "493/493 [==============================] - 5s 9ms/step - loss: 0.0215 - accuracy: 0.9926\n",
      "Epoch 7/14\n",
      "493/493 [==============================] - 4s 7ms/step - loss: 0.0166 - accuracy: 0.9947\n",
      "Epoch 8/14\n",
      "493/493 [==============================] - 3s 7ms/step - loss: 0.0153 - accuracy: 0.9948\n",
      "Epoch 9/14\n",
      "493/493 [==============================] - 4s 7ms/step - loss: 0.0141 - accuracy: 0.9957\n",
      "Epoch 10/14\n",
      "493/493 [==============================] - 4s 7ms/step - loss: 0.0111 - accuracy: 0.9963\n",
      "Epoch 11/14\n",
      "493/493 [==============================] - 3s 7ms/step - loss: 0.0150 - accuracy: 0.9950\n",
      "Epoch 12/14\n",
      "493/493 [==============================] - 3s 7ms/step - loss: 0.0087 - accuracy: 0.9973\n",
      "Epoch 13/14\n",
      "493/493 [==============================] - 3s 7ms/step - loss: 0.0106 - accuracy: 0.9966\n",
      "Epoch 14/14\n",
      "493/493 [==============================] - 3s 7ms/step - loss: 0.0103 - accuracy: 0.9965\n"
     ]
    },
    {
     "data": {
      "text/plain": [
       "<keras.callbacks.History at 0x7fb2daa221f0>"
      ]
     },
     "execution_count": 268,
     "metadata": {},
     "output_type": "execute_result"
    }
   ],
   "source": [
    "model.fit(x_train, y_train, batch_size=128, epochs=14, verbose=1)"
   ]
  },
  {
   "cell_type": "code",
   "execution_count": 269,
   "metadata": {
    "id": "nmxH0W_QSOIX"
   },
   "outputs": [],
   "source": [
    "model.save_weights('model_2.h5')\n",
    "model.load_weights('model_2.h5')"
   ]
  },
  {
   "cell_type": "code",
   "execution_count": 270,
   "metadata": {
    "colab": {
     "base_uri": "https://localhost:8080/",
     "height": 265
    },
    "id": "ydE7Bb-5G82-",
    "outputId": "55dc129c-8624-49ce-dd99-2b9e91012fcf"
   },
   "outputs": [
    {
     "data": {
      "image/png": "[encoded data removed]",
      "text/plain": [
       "<Figure size 432x288 with 1 Axes>"
      ]
     },
     "metadata": {
      "needs_background": "light"
     },
     "output_type": "display_data"
    }
   ],
   "source": [
    "n_rec = 387 #Номер тестовой цифры, которую будем распознавать\n",
    "plt.imshow(Image.fromarray(x_test_1[n_rec]).convert('RGBA')) # Нарисуем картинку из тестового набора под номером n_rec\n",
    "plt.show()"
   ]
  },
  {
   "cell_type": "code",
   "execution_count": 271,
   "metadata": {
    "colab": {
     "base_uri": "https://localhost:8080/",
     "height": 34
    },
    "id": "_85gvY6uHABc",
    "outputId": "5d218a79-c3cb-4eb3-980a-204fee09cca2"
   },
   "outputs": [
    {
     "name": "stdout",
     "output_type": "stream",
     "text": [
      "(784,)\n"
     ]
    }
   ],
   "source": [
    "#Выбираем нужную картинку из тестовой выборки\n",
    "x = x_test[n_rec]\n",
    "print(x.shape)"
   ]
  },
  {
   "cell_type": "code",
   "execution_count": 272,
   "metadata": {
    "colab": {
     "base_uri": "https://localhost:8080/",
     "height": 34
    },
    "id": "IljyFhj0HPPC",
    "outputId": "c0a72e25-ffe7-4655-a774-c9dc0fcf2836"
   },
   "outputs": [
    {
     "name": "stdout",
     "output_type": "stream",
     "text": [
      "(1, 784)\n"
     ]
    }
   ],
   "source": [
    "#Добавляем одну размерность в конце, чтобы нейронка могла распознать пример\n",
    "\n",
    "x = np.expand_dims(x, axis=0)\n",
    "print(x.shape)"
   ]
  },
  {
   "cell_type": "code",
   "execution_count": 273,
   "metadata": {
    "id": "VigT6aeAHQ91"
   },
   "outputs": [
    {
     "name": "stdout",
     "output_type": "stream",
     "text": [
      "WARNING:tensorflow:6 out of the last 8 calls to <function Model.make_predict_function.<locals>.predict_function at 0x7fb2ce4ead30> triggered tf.function retracing. Tracing is expensive and the excessive number of tracings could be due to (1) creating @tf.function repeatedly in a loop, (2) passing tensors with different shapes, (3) passing Python objects instead of tensors. For (1), please define your @tf.function outside of the loop. For (2), @tf.function has experimental_relax_shapes=True option that relaxes argument shapes that can avoid unnecessary retracing. For (3), please refer to https://www.tensorflow.org/guide/function#controlling_retracing and https://www.tensorflow.org/api_docs/python/tf/function for  more details.\n"
     ]
    }
   ],
   "source": [
    "prediction = model.predict(x) #Распознаём наш пример"
   ]
  },
  {
   "cell_type": "code",
   "execution_count": 274,
   "metadata": {
    "colab": {
     "base_uri": "https://localhost:8080/",
     "height": 51
    },
    "id": "fGF9xUCRHSOE",
    "outputId": "41313d6c-5d31-433d-95d1-5bc4e1ef8f2f"
   },
   "outputs": [
    {
     "name": "stdout",
     "output_type": "stream",
     "text": [
      "[[4.9378512e-10 4.8201009e-17 2.5158620e-14 1.0587589e-17 2.1954804e-13\n",
      "  1.2721077e-11 1.0000000e+00 3.0861501e-19 2.6717057e-12 1.6293625e-13]]\n"
     ]
    }
   ],
   "source": [
    "print(prediction) #Выводим результат"
   ]
  },
  {
   "cell_type": "code",
   "execution_count": 275,
   "metadata": {
    "colab": {
     "base_uri": "https://localhost:8080/",
     "height": 34
    },
    "id": "LKR0oFGAYyFi",
    "outputId": "4f98a8f4-8b2c-444b-b864-48732b827441"
   },
   "outputs": [
    {
     "data": {
      "text/plain": [
       "1.0000000005095855"
      ]
     },
     "execution_count": 275,
     "metadata": {},
     "output_type": "execute_result"
    }
   ],
   "source": [
    "sum(prediction[0])"
   ]
  },
  {
   "cell_type": "code",
   "execution_count": 276,
   "metadata": {
    "colab": {
     "base_uri": "https://localhost:8080/",
     "height": 34
    },
    "id": "9pg67PW9HV4A",
    "outputId": "a9fab8ba-86dd-4247-8ad6-490b4bd2c66f"
   },
   "outputs": [
    {
     "name": "stdout",
     "output_type": "stream",
     "text": [
      "6\n"
     ]
    }
   ],
   "source": [
    "pred = np.argmax(prediction) # Получаем индекс самого большого элемента (это итоговая цифра, которую распознала сеть)\n",
    "print(pred)"
   ]
  },
  {
   "cell_type": "code",
   "execution_count": 278,
   "metadata": {
    "colab": {
     "base_uri": "https://localhost:8080/",
     "height": 34
    },
    "id": "72Rbs1E9HeRZ",
    "outputId": "4d75d22e-1c3d-47ac-eac8-fa4e8e78be65"
   },
   "outputs": [
    {
     "name": "stdout",
     "output_type": "stream",
     "text": [
      "6\n"
     ]
    }
   ],
   "source": [
    "print(y_test_1[n_rec]) #выводим правильный ответ, для сравнения"
   ]
  },
  {
   "cell_type": "markdown",
   "metadata": {},
   "source": [
    "## Размер test_size=0.5\n",
    "\n",
    "\n",
    "\n"
   ]
  },
  {
   "cell_type": "code",
   "execution_count": 279,
   "metadata": {
    "colab": {
     "base_uri": "https://localhost:8080/"
    },
    "id": "xnYVjcnJC4TY",
    "outputId": "cb7ce7ef-eda0-4dca-cb85-e1779cd09ea6",
    "scrolled": true
   },
   "outputs": [],
   "source": [
    "(x_train_org, y_train_org), (x_test_org, y_test_org) = mnist.load_data() "
   ]
  },
  {
   "cell_type": "code",
   "execution_count": 280,
   "metadata": {},
   "outputs": [],
   "source": [
    "X = np.concatenate((x_train_org, x_test_org))"
   ]
  },
  {
   "cell_type": "code",
   "execution_count": 281,
   "metadata": {},
   "outputs": [],
   "source": [
    "Y = np.concatenate((y_train_org, y_test_org))"
   ]
  },
  {
   "cell_type": "code",
   "execution_count": 282,
   "metadata": {},
   "outputs": [
    {
     "name": "stdout",
     "output_type": "stream",
     "text": [
      "(35000, 28, 28)\n",
      "(35000, 28, 28)\n",
      "(35000,)\n",
      "(35000,)\n"
     ]
    }
   ],
   "source": [
    "# test_size=0.5 - будет выделено 50% от тренировочных данных \n",
    "\n",
    "x_train_5, x_test_5, y_train_5, y_test_5 = train_test_split(X, Y, test_size=0.5, shuffle=True)    \n",
    "print (x_train_5.shape)\n",
    "print (x_test_5.shape)\n",
    "print (y_train_5.shape)\n",
    "print (y_test_5.shape)"
   ]
  },
  {
   "cell_type": "code",
   "execution_count": 283,
   "metadata": {
    "colab": {
     "base_uri": "https://localhost:8080/"
    },
    "id": "StxOw0C6EQQd",
    "outputId": "050fd21e-faa3-489f-b13c-fea2ff31b91b"
   },
   "outputs": [
    {
     "name": "stdout",
     "output_type": "stream",
     "text": [
      "(35000, 28, 28)\n",
      "(35000, 784)\n",
      "(35000, 784)\n",
      "(35000,)\n",
      "(35000,)\n"
     ]
    }
   ],
   "source": [
    "#Меняем формат входных картинок с 28х28 на 784х1\n",
    "x_train = x_train_5.reshape(35000, 784)\n",
    "x_test = x_test_5.reshape(35000, 784)\n",
    "print(x_train_5.shape)\n",
    "print(x_train.shape)\n",
    "print(x_test.shape)\n",
    "print(y_train_5.shape)\n",
    "print(y_test_5.shape)"
   ]
  },
  {
   "cell_type": "markdown",
   "metadata": {},
   "source": [
    "#### 3. Нормирование и преобразование x_train и y_train."
   ]
  },
  {
   "cell_type": "code",
   "execution_count": 284,
   "metadata": {
    "id": "R5cW-u8eEXBN"
   },
   "outputs": [],
   "source": [
    "#Нормализуем входные картинки\n",
    "x_train = x_train.astype('float32') # преобразовываем x_train в тип float (цифры с плавающей точкой)\n",
    "x_train = x_train / 255 # делим на 255, чтобы диапазон был от 0 до 1\n",
    "x_test = x_test.astype('float32') # преобразовываем x_test в тип float (цифры с плавающей точкой)\n",
    "x_test = x_test / 255 # делим на 255, чтобы диапазон был от 0 до 1"
   ]
  },
  {
   "cell_type": "code",
   "execution_count": 287,
   "metadata": {
    "colab": {
     "base_uri": "https://localhost:8080/"
    },
    "id": "BHfS_QDay14q",
    "outputId": "531640de-578d-49ec-cc1f-e349e306a723"
   },
   "outputs": [
    {
     "data": {
      "text/plain": [
       "6"
      ]
     },
     "execution_count": 287,
     "metadata": {},
     "output_type": "execute_result"
    }
   ],
   "source": [
    "y_train_5[0]"
   ]
  },
  {
   "cell_type": "code",
   "execution_count": 288,
   "metadata": {
    "id": "zrxFxFA5EsVU"
   },
   "outputs": [],
   "source": [
    "# Преобразуем ответы в формат one_hot_encoding\n",
    "y_train = utils.to_categorical(y_train_5, 10)\n",
    "y_test = utils.to_categorical(y_test_5, 10)"
   ]
  },
  {
   "cell_type": "code",
   "execution_count": 289,
   "metadata": {
    "colab": {
     "base_uri": "https://localhost:8080/"
    },
    "id": "7AiDf79FE2Xk",
    "outputId": "14dff684-64ac-4522-fb9f-64004e95cfca"
   },
   "outputs": [
    {
     "name": "stdout",
     "output_type": "stream",
     "text": [
      "(35000, 10)\n"
     ]
    }
   ],
   "source": [
    "#Выводим размер y_train\n",
    "#60 тысяч примеров, каждый размера 10 (так как 10 классов)\n",
    "print(y_train.shape)"
   ]
  },
  {
   "cell_type": "markdown",
   "metadata": {
    "id": "TR6ua7t7FEzn"
   },
   "source": [
    "#### 4. Создание нейронной сети."
   ]
  },
  {
   "cell_type": "code",
   "execution_count": 290,
   "metadata": {
    "id": "odi8yVyxE-w5"
   },
   "outputs": [],
   "source": [
    "model = Sequential() # Создаём сеть прямого распространения\n",
    "model.add(Dense(800, input_dim=784, activation=\"relu\")) # Добавляем полносвязный слой на 800 нейронов с relu-активацией\n",
    "model.add(Dense(400, activation=\"relu\")) # Добавляем полносвязный слой на 400 нейронов с relu-активацией\n",
    "model.add(Dense(10, activation=\"softmax\")) # Добавляем полносвязный слой на 10 нейронов с softmax-активацией"
   ]
  },
  {
   "cell_type": "code",
   "execution_count": 291,
   "metadata": {
    "colab": {
     "base_uri": "https://localhost:8080/"
    },
    "id": "6EMUkxTqFkc1",
    "outputId": "9f888c69-02cd-49cf-f2e3-6ba9a5a27359"
   },
   "outputs": [
    {
     "name": "stdout",
     "output_type": "stream",
     "text": [
      "Model: \"sequential_6\"\n",
      "_________________________________________________________________\n",
      "Layer (type)                 Output Shape              Param #   \n",
      "=================================================================\n",
      "dense_18 (Dense)             (None, 800)               628000    \n",
      "_________________________________________________________________\n",
      "dense_19 (Dense)             (None, 400)               320400    \n",
      "_________________________________________________________________\n",
      "dense_20 (Dense)             (None, 10)                4010      \n",
      "=================================================================\n",
      "Total params: 952,410\n",
      "Trainable params: 952,410\n",
      "Non-trainable params: 0\n",
      "_________________________________________________________________\n",
      "None\n"
     ]
    }
   ],
   "source": [
    "model.compile(loss=\"categorical_crossentropy\", optimizer=\"adam\", metrics=[\"accuracy\"]) # Компилируем модель\n",
    "print(model.summary()) #Вывод структуры модели"
   ]
  },
  {
   "cell_type": "markdown",
   "metadata": {
    "id": "H4WWjjxnF3qn"
   },
   "source": [
    "#### 5. Обучение нейронной сети."
   ]
  },
  {
   "cell_type": "code",
   "execution_count": 292,
   "metadata": {
    "colab": {
     "base_uri": "https://localhost:8080/",
     "height": 544
    },
    "id": "tzArU3n3F6Lo",
    "outputId": "905e6634-7e13-414f-ae16-cfbd6efbe267"
   },
   "outputs": [
    {
     "name": "stdout",
     "output_type": "stream",
     "text": [
      "Epoch 1/14\n",
      "274/274 [==============================] - 2s 7ms/step - loss: 0.2609 - accuracy: 0.9235\n",
      "Epoch 2/14\n",
      "274/274 [==============================] - 2s 6ms/step - loss: 0.0951 - accuracy: 0.9716\n",
      "Epoch 3/14\n",
      "274/274 [==============================] - 2s 6ms/step - loss: 0.0559 - accuracy: 0.9825\n",
      "Epoch 4/14\n",
      "274/274 [==============================] - 2s 6ms/step - loss: 0.0378 - accuracy: 0.9883\n",
      "Epoch 5/14\n",
      "274/274 [==============================] - 2s 6ms/step - loss: 0.0254 - accuracy: 0.9922\n",
      "Epoch 6/14\n",
      "274/274 [==============================] - 2s 6ms/step - loss: 0.0176 - accuracy: 0.9945\n",
      "Epoch 7/14\n",
      "274/274 [==============================] - 2s 6ms/step - loss: 0.0192 - accuracy: 0.9937\n",
      "Epoch 8/14\n",
      "274/274 [==============================] - 2s 7ms/step - loss: 0.0204 - accuracy: 0.9931\n",
      "Epoch 9/14\n",
      "274/274 [==============================] - 2s 6ms/step - loss: 0.0127 - accuracy: 0.9955\n",
      "Epoch 10/14\n",
      "274/274 [==============================] - 2s 7ms/step - loss: 0.0092 - accuracy: 0.9972\n",
      "Epoch 11/14\n",
      "274/274 [==============================] - 2s 7ms/step - loss: 0.0055 - accuracy: 0.9983\n",
      "Epoch 12/14\n",
      "274/274 [==============================] - 2s 7ms/step - loss: 0.0188 - accuracy: 0.9940\n",
      "Epoch 13/14\n",
      "274/274 [==============================] - 2s 7ms/step - loss: 0.0140 - accuracy: 0.9954\n",
      "Epoch 14/14\n",
      "274/274 [==============================] - 2s 7ms/step - loss: 0.0075 - accuracy: 0.9977\n"
     ]
    },
    {
     "data": {
      "text/plain": [
       "<keras.callbacks.History at 0x7fb2ce4177c0>"
      ]
     },
     "execution_count": 292,
     "metadata": {},
     "output_type": "execute_result"
    }
   ],
   "source": [
    "model.fit(x_train, y_train, batch_size=128, epochs=14, verbose=1)"
   ]
  },
  {
   "cell_type": "code",
   "execution_count": 293,
   "metadata": {
    "id": "nmxH0W_QSOIX"
   },
   "outputs": [],
   "source": [
    "model.save_weights('model_2.h5')\n",
    "model.load_weights('model_2.h5')"
   ]
  },
  {
   "cell_type": "code",
   "execution_count": 294,
   "metadata": {
    "colab": {
     "base_uri": "https://localhost:8080/",
     "height": 265
    },
    "id": "ydE7Bb-5G82-",
    "outputId": "55dc129c-8624-49ce-dd99-2b9e91012fcf"
   },
   "outputs": [
    {
     "data": {
      "image/png": "[encoded data removed]",
      "text/plain": [
       "<Figure size 432x288 with 1 Axes>"
      ]
     },
     "metadata": {
      "needs_background": "light"
     },
     "output_type": "display_data"
    }
   ],
   "source": [
    "n_rec = 387 #Номер тестовой цифры, которую будем распознавать\n",
    "plt.imshow(Image.fromarray(x_test_5[n_rec]).convert('RGBA')) # Нарисуем картинку из тестового набора под номером n_rec\n",
    "plt.show()"
   ]
  },
  {
   "cell_type": "code",
   "execution_count": 295,
   "metadata": {
    "colab": {
     "base_uri": "https://localhost:8080/",
     "height": 34
    },
    "id": "_85gvY6uHABc",
    "outputId": "5d218a79-c3cb-4eb3-980a-204fee09cca2"
   },
   "outputs": [
    {
     "name": "stdout",
     "output_type": "stream",
     "text": [
      "(784,)\n"
     ]
    }
   ],
   "source": [
    "#Выбираем нужную картинку из тестовой выборки\n",
    "x = x_test[n_rec]\n",
    "print(x.shape)"
   ]
  },
  {
   "cell_type": "code",
   "execution_count": 296,
   "metadata": {
    "colab": {
     "base_uri": "https://localhost:8080/",
     "height": 34
    },
    "id": "IljyFhj0HPPC",
    "outputId": "c0a72e25-ffe7-4655-a774-c9dc0fcf2836"
   },
   "outputs": [
    {
     "name": "stdout",
     "output_type": "stream",
     "text": [
      "(1, 784)\n"
     ]
    }
   ],
   "source": [
    "#Добавляем одну размерность в конце, чтобы нейронка могла распознать пример\n",
    "\n",
    "x = np.expand_dims(x, axis=0)\n",
    "print(x.shape)"
   ]
  },
  {
   "cell_type": "code",
   "execution_count": 297,
   "metadata": {
    "id": "VigT6aeAHQ91"
   },
   "outputs": [],
   "source": [
    "prediction = model.predict(x) #Распознаём наш пример"
   ]
  },
  {
   "cell_type": "code",
   "execution_count": 298,
   "metadata": {
    "colab": {
     "base_uri": "https://localhost:8080/",
     "height": 51
    },
    "id": "fGF9xUCRHSOE",
    "outputId": "41313d6c-5d31-433d-95d1-5bc4e1ef8f2f"
   },
   "outputs": [
    {
     "name": "stdout",
     "output_type": "stream",
     "text": [
      "[[6.4488463e-11 1.0000000e+00 4.4502069e-11 2.9212676e-15 2.6551780e-10\n",
      "  2.1805471e-14 1.7281707e-12 7.1514172e-10 8.7667547e-12 2.6993951e-13]]\n"
     ]
    }
   ],
   "source": [
    "print(prediction) #Выводим результат"
   ]
  },
  {
   "cell_type": "code",
   "execution_count": 299,
   "metadata": {
    "colab": {
     "base_uri": "https://localhost:8080/",
     "height": 34
    },
    "id": "LKR0oFGAYyFi",
    "outputId": "4f98a8f4-8b2c-444b-b864-48732b827441"
   },
   "outputs": [
    {
     "data": {
      "text/plain": [
       "1.0000000011004397"
      ]
     },
     "execution_count": 299,
     "metadata": {},
     "output_type": "execute_result"
    }
   ],
   "source": [
    "sum(prediction[0])"
   ]
  },
  {
   "cell_type": "code",
   "execution_count": 300,
   "metadata": {
    "colab": {
     "base_uri": "https://localhost:8080/",
     "height": 34
    },
    "id": "9pg67PW9HV4A",
    "outputId": "a9fab8ba-86dd-4247-8ad6-490b4bd2c66f"
   },
   "outputs": [
    {
     "name": "stdout",
     "output_type": "stream",
     "text": [
      "1\n"
     ]
    }
   ],
   "source": [
    "pred = np.argmax(prediction) # Получаем индекс самого большого элемента (это итоговая цифра, которую распознала сеть)\n",
    "print(pred)"
   ]
  },
  {
   "cell_type": "code",
   "execution_count": 301,
   "metadata": {
    "colab": {
     "base_uri": "https://localhost:8080/",
     "height": 34
    },
    "id": "72Rbs1E9HeRZ",
    "outputId": "4d75d22e-1c3d-47ac-eac8-fa4e8e78be65"
   },
   "outputs": [
    {
     "name": "stdout",
     "output_type": "stream",
     "text": [
      "1\n"
     ]
    }
   ],
   "source": [
    "print(y_test_5[n_rec]) #выводим правильный ответ, для сравнения"
   ]
  },
  {
   "cell_type": "markdown",
   "metadata": {},
   "source": [
    "\n",
    "## Размер test_size=0.9"
   ]
  },
  {
   "cell_type": "code",
   "execution_count": 302,
   "metadata": {
    "colab": {
     "base_uri": "https://localhost:8080/"
    },
    "id": "xnYVjcnJC4TY",
    "outputId": "cb7ce7ef-eda0-4dca-cb85-e1779cd09ea6",
    "scrolled": true
   },
   "outputs": [],
   "source": [
    "(x_train_org, y_train_org), (x_test_org, y_test_org) = mnist.load_data() "
   ]
  },
  {
   "cell_type": "code",
   "execution_count": 303,
   "metadata": {},
   "outputs": [],
   "source": [
    "X = np.concatenate((x_train_org, x_test_org))"
   ]
  },
  {
   "cell_type": "code",
   "execution_count": 304,
   "metadata": {},
   "outputs": [],
   "source": [
    "Y = np.concatenate((y_train_org, y_test_org))"
   ]
  },
  {
   "cell_type": "code",
   "execution_count": 305,
   "metadata": {},
   "outputs": [
    {
     "name": "stdout",
     "output_type": "stream",
     "text": [
      "(7000, 28, 28)\n",
      "(63000,)\n"
     ]
    }
   ],
   "source": [
    "# test_size=0.9 - будет выделено 90% от тренировочных данных \n",
    "\n",
    "x_train_9, x_test_9, y_train_9, y_test_9 = train_test_split(X, Y, test_size=0.9, shuffle=True)    \n",
    "print(x_train_9.shape)\n",
    "print(y_test_9.shape)"
   ]
  },
  {
   "cell_type": "code",
   "execution_count": 306,
   "metadata": {
    "colab": {
     "base_uri": "https://localhost:8080/"
    },
    "id": "StxOw0C6EQQd",
    "outputId": "050fd21e-faa3-489f-b13c-fea2ff31b91b"
   },
   "outputs": [
    {
     "name": "stdout",
     "output_type": "stream",
     "text": [
      "(7000, 28, 28)\n",
      "(7000, 784)\n",
      "(63000, 784)\n",
      "(7000,)\n",
      "(63000,)\n"
     ]
    }
   ],
   "source": [
    "#Меняем формат входных картинок с 28х28 на 784х1\n",
    "x_train = x_train_9.reshape(7000, 784)\n",
    "x_test = x_test_9.reshape(63000, 784)\n",
    "print(x_train_9.shape)\n",
    "print(x_train.shape)\n",
    "print(x_test.shape)\n",
    "print(y_train_9.shape)\n",
    "print(y_test_9.shape)"
   ]
  },
  {
   "cell_type": "markdown",
   "metadata": {},
   "source": [
    "#### 3. Нормирование и преобразование x_train и y_train."
   ]
  },
  {
   "cell_type": "code",
   "execution_count": 307,
   "metadata": {
    "id": "R5cW-u8eEXBN"
   },
   "outputs": [],
   "source": [
    "#Нормализуем входные картинки\n",
    "x_train = x_train.astype('float32') # преобразовываем x_train в тип float (цифры с плавающей точкой)\n",
    "x_train = x_train / 255 # делим на 255, чтобы диапазон был от 0 до 1\n",
    "x_test = x_test.astype('float32') # преобразовываем x_test в тип float (цифры с плавающей точкой)\n",
    "x_test = x_test / 255 # делим на 255, чтобы диапазон был от 0 до 1"
   ]
  },
  {
   "cell_type": "code",
   "execution_count": 308,
   "metadata": {
    "colab": {
     "base_uri": "https://localhost:8080/"
    },
    "id": "BHfS_QDay14q",
    "outputId": "531640de-578d-49ec-cc1f-e349e306a723"
   },
   "outputs": [
    {
     "data": {
      "text/plain": [
       "6"
      ]
     },
     "execution_count": 308,
     "metadata": {},
     "output_type": "execute_result"
    }
   ],
   "source": [
    "y_train_9[0]"
   ]
  },
  {
   "cell_type": "code",
   "execution_count": 309,
   "metadata": {
    "id": "zrxFxFA5EsVU"
   },
   "outputs": [],
   "source": [
    "# Преобразуем ответы в формат one_hot_encoding\n",
    "y_train = utils.to_categorical(y_train_9, 10)\n",
    "y_test = utils.to_categorical(y_test_9, 10)"
   ]
  },
  {
   "cell_type": "code",
   "execution_count": 310,
   "metadata": {
    "colab": {
     "base_uri": "https://localhost:8080/"
    },
    "id": "7AiDf79FE2Xk",
    "outputId": "14dff684-64ac-4522-fb9f-64004e95cfca"
   },
   "outputs": [
    {
     "name": "stdout",
     "output_type": "stream",
     "text": [
      "(7000, 10)\n"
     ]
    }
   ],
   "source": [
    "#Выводим размер y_train\n",
    "#60 тысяч примеров, каждый размера 10 (так как 10 классов)\n",
    "print(y_train.shape)"
   ]
  },
  {
   "cell_type": "markdown",
   "metadata": {
    "id": "TR6ua7t7FEzn"
   },
   "source": [
    "#### 4. Создание нейронной сети."
   ]
  },
  {
   "cell_type": "code",
   "execution_count": 311,
   "metadata": {
    "id": "odi8yVyxE-w5"
   },
   "outputs": [],
   "source": [
    "model = Sequential() # Создаём сеть прямого распространения\n",
    "model.add(Dense(800, input_dim=784, activation=\"relu\")) # Добавляем полносвязный слой на 800 нейронов с relu-активацией\n",
    "model.add(Dense(400, activation=\"relu\")) # Добавляем полносвязный слой на 400 нейронов с relu-активацией\n",
    "model.add(Dense(10, activation=\"softmax\")) # Добавляем полносвязный слой на 10 нейронов с softmax-активацией"
   ]
  },
  {
   "cell_type": "code",
   "execution_count": 312,
   "metadata": {
    "colab": {
     "base_uri": "https://localhost:8080/"
    },
    "id": "6EMUkxTqFkc1",
    "outputId": "9f888c69-02cd-49cf-f2e3-6ba9a5a27359"
   },
   "outputs": [
    {
     "name": "stdout",
     "output_type": "stream",
     "text": [
      "Model: \"sequential_7\"\n",
      "_________________________________________________________________\n",
      "Layer (type)                 Output Shape              Param #   \n",
      "=================================================================\n",
      "dense_21 (Dense)             (None, 800)               628000    \n",
      "_________________________________________________________________\n",
      "dense_22 (Dense)             (None, 400)               320400    \n",
      "_________________________________________________________________\n",
      "dense_23 (Dense)             (None, 10)                4010      \n",
      "=================================================================\n",
      "Total params: 952,410\n",
      "Trainable params: 952,410\n",
      "Non-trainable params: 0\n",
      "_________________________________________________________________\n",
      "None\n"
     ]
    }
   ],
   "source": [
    "model.compile(loss=\"categorical_crossentropy\", optimizer=\"adam\", metrics=[\"accuracy\"]) # Компилируем модель\n",
    "print(model.summary()) #Вывод структуры модели"
   ]
  },
  {
   "cell_type": "markdown",
   "metadata": {
    "id": "H4WWjjxnF3qn"
   },
   "source": [
    "#### 5. Обучение нейронной сети."
   ]
  },
  {
   "cell_type": "code",
   "execution_count": 313,
   "metadata": {
    "colab": {
     "base_uri": "https://localhost:8080/",
     "height": 544
    },
    "id": "tzArU3n3F6Lo",
    "outputId": "905e6634-7e13-414f-ae16-cfbd6efbe267"
   },
   "outputs": [
    {
     "name": "stdout",
     "output_type": "stream",
     "text": [
      "Epoch 1/14\n",
      "55/55 [==============================] - 1s 7ms/step - loss: 0.5569 - accuracy: 0.8323\n",
      "Epoch 2/14\n",
      "55/55 [==============================] - 0s 7ms/step - loss: 0.1953 - accuracy: 0.9414\n",
      "Epoch 3/14\n",
      "55/55 [==============================] - 0s 7ms/step - loss: 0.1140 - accuracy: 0.9667\n",
      "Epoch 4/14\n",
      "55/55 [==============================] - 0s 7ms/step - loss: 0.0733 - accuracy: 0.9793\n",
      "Epoch 5/14\n",
      "55/55 [==============================] - 0s 7ms/step - loss: 0.0419 - accuracy: 0.9890\n",
      "Epoch 6/14\n",
      "55/55 [==============================] - 0s 7ms/step - loss: 0.0211 - accuracy: 0.9954\n",
      "Epoch 7/14\n",
      "55/55 [==============================] - 0s 7ms/step - loss: 0.0099 - accuracy: 0.9991\n",
      "Epoch 8/14\n",
      "55/55 [==============================] - 0s 7ms/step - loss: 0.0051 - accuracy: 0.9997\n",
      "Epoch 9/14\n",
      "55/55 [==============================] - 0s 7ms/step - loss: 0.0031 - accuracy: 1.0000\n",
      "Epoch 10/14\n",
      "55/55 [==============================] - 0s 7ms/step - loss: 0.0021 - accuracy: 1.0000\n",
      "Epoch 11/14\n",
      "55/55 [==============================] - 0s 7ms/step - loss: 0.0017 - accuracy: 1.0000\n",
      "Epoch 12/14\n",
      "55/55 [==============================] - 0s 7ms/step - loss: 0.0012 - accuracy: 1.0000\n",
      "Epoch 13/14\n",
      "55/55 [==============================] - 0s 7ms/step - loss: 9.9801e-04 - accuracy: 1.0000\n",
      "Epoch 14/14\n",
      "55/55 [==============================] - 0s 7ms/step - loss: 8.2448e-04 - accuracy: 1.0000\n"
     ]
    },
    {
     "data": {
      "text/plain": [
       "<keras.callbacks.History at 0x7fb2d0798ee0>"
      ]
     },
     "execution_count": 313,
     "metadata": {},
     "output_type": "execute_result"
    }
   ],
   "source": [
    "model.fit(x_train, y_train, batch_size=128, epochs=14, verbose=1)"
   ]
  },
  {
   "cell_type": "code",
   "execution_count": 314,
   "metadata": {
    "id": "nmxH0W_QSOIX"
   },
   "outputs": [],
   "source": [
    "model.save_weights('model_2.h5')\n",
    "model.load_weights('model_2.h5')"
   ]
  },
  {
   "cell_type": "code",
   "execution_count": 315,
   "metadata": {
    "colab": {
     "base_uri": "https://localhost:8080/",
     "height": 265
    },
    "id": "ydE7Bb-5G82-",
    "outputId": "55dc129c-8624-49ce-dd99-2b9e91012fcf"
   },
   "outputs": [
    {
     "data": {
      "image/png": "[encoded data removed]",
      "text/plain": [
       "<Figure size 432x288 with 1 Axes>"
      ]
     },
     "metadata": {
      "needs_background": "light"
     },
     "output_type": "display_data"
    }
   ],
   "source": [
    "n_rec = 387 #Номер тестовой цифры, которую будем распознавать\n",
    "plt.imshow(Image.fromarray(x_test_9[n_rec]).convert('RGBA')) # Нарисуем картинку из тестового набора под номером n_rec\n",
    "plt.show()"
   ]
  },
  {
   "cell_type": "code",
   "execution_count": 316,
   "metadata": {
    "colab": {
     "base_uri": "https://localhost:8080/",
     "height": 34
    },
    "id": "_85gvY6uHABc",
    "outputId": "5d218a79-c3cb-4eb3-980a-204fee09cca2"
   },
   "outputs": [
    {
     "name": "stdout",
     "output_type": "stream",
     "text": [
      "(784,)\n"
     ]
    }
   ],
   "source": [
    "#Выбираем нужную картинку из тестовой выборки\n",
    "x = x_test[n_rec]\n",
    "print(x.shape)"
   ]
  },
  {
   "cell_type": "code",
   "execution_count": 317,
   "metadata": {
    "colab": {
     "base_uri": "https://localhost:8080/",
     "height": 34
    },
    "id": "IljyFhj0HPPC",
    "outputId": "c0a72e25-ffe7-4655-a774-c9dc0fcf2836"
   },
   "outputs": [
    {
     "name": "stdout",
     "output_type": "stream",
     "text": [
      "(1, 784)\n"
     ]
    }
   ],
   "source": [
    "#Добавляем одну размерность в конце, чтобы нейронка могла распознать пример\n",
    "\n",
    "x = np.expand_dims(x, axis=0)\n",
    "print(x.shape)"
   ]
  },
  {
   "cell_type": "code",
   "execution_count": 318,
   "metadata": {
    "id": "VigT6aeAHQ91"
   },
   "outputs": [],
   "source": [
    "prediction = model.predict(x) #Распознаём наш пример"
   ]
  },
  {
   "cell_type": "code",
   "execution_count": 319,
   "metadata": {
    "colab": {
     "base_uri": "https://localhost:8080/",
     "height": 51
    },
    "id": "fGF9xUCRHSOE",
    "outputId": "41313d6c-5d31-433d-95d1-5bc4e1ef8f2f"
   },
   "outputs": [
    {
     "name": "stdout",
     "output_type": "stream",
     "text": [
      "[[7.7763829e-10 7.8503346e-09 5.1634115e-09 7.8795681e-10 9.9999666e-01\n",
      "  2.9746156e-08 3.9107502e-07 1.2024915e-07 8.1094549e-07 2.1069441e-06]]\n"
     ]
    }
   ],
   "source": [
    "print(prediction) #Выводим результат"
   ]
  },
  {
   "cell_type": "code",
   "execution_count": 320,
   "metadata": {
    "colab": {
     "base_uri": "https://localhost:8080/",
     "height": 34
    },
    "id": "LKR0oFGAYyFi",
    "outputId": "4f98a8f4-8b2c-444b-b864-48732b827441"
   },
   "outputs": [
    {
     "data": {
      "text/plain": [
       "1.000000135679124"
      ]
     },
     "execution_count": 320,
     "metadata": {},
     "output_type": "execute_result"
    }
   ],
   "source": [
    "sum(prediction[0])"
   ]
  },
  {
   "cell_type": "code",
   "execution_count": 321,
   "metadata": {
    "colab": {
     "base_uri": "https://localhost:8080/",
     "height": 34
    },
    "id": "9pg67PW9HV4A",
    "outputId": "a9fab8ba-86dd-4247-8ad6-490b4bd2c66f"
   },
   "outputs": [
    {
     "name": "stdout",
     "output_type": "stream",
     "text": [
      "4\n"
     ]
    }
   ],
   "source": [
    "pred = np.argmax(prediction) # Получаем индекс самого большого элемента (это итоговая цифра, которую распознала сеть)\n",
    "print(pred)"
   ]
  },
  {
   "cell_type": "code",
   "execution_count": 322,
   "metadata": {
    "colab": {
     "base_uri": "https://localhost:8080/",
     "height": 34
    },
    "id": "72Rbs1E9HeRZ",
    "outputId": "4d75d22e-1c3d-47ac-eac8-fa4e8e78be65"
   },
   "outputs": [
    {
     "name": "stdout",
     "output_type": "stream",
     "text": [
      "4\n"
     ]
    }
   ],
   "source": [
    "print(y_test_9[n_rec]) #выводим правильный ответ, для сравнения"
   ]
  },
  {
   "cell_type": "markdown",
   "metadata": {},
   "source": [
    "## Напишите выводы, как изменение test_size влияет на точность сети."
   ]
  },
  {
   "cell_type": "markdown",
   "metadata": {},
   "source": [
    "**По результатам проведенных тестов с различными test_size можно отметить, что при увеличении размера тестовой выборки показатель ошибки снижался (loss), а показатель accuracy рост (на последнем тесте достиг единицы).**"
   ]
  },
  {
   "cell_type": "markdown",
   "metadata": {},
   "source": [
    "P.S. результат меня удивил, я думала, что при снижении размера обучающей выборки модель не сможет правильно обучиться и ошибка будет расти..."
   ]
  },
  {
   "cell_type": "code",
   "execution_count": null,
   "metadata": {},
   "outputs": [],
   "source": []
  }
 ],
 "metadata": {
  "accelerator": "GPU",
  "colab": {
   "collapsed_sections": [
    "jjqH_JaURnnK",
    "c4pg0HUQCdFk",
    "MMkWv4VhC2ti",
    "iD7hR5hXNLUe",
    "rrWmNM6jKBrc",
    "rstrtRs2O1so",
    "5BUXluCMWpMB",
    "dntk9WK6TbA-",
    "6tP0Iq2NX9qK",
    "c3-PovDMb2TU",
    "n3UgLD14-l72",
    "qLX9aj3eFCPB",
    "Pa2_uq889QCz"
   ],
   "name": "Распознавание рукописных цифр (Университет искусственного интеллекта)",
   "provenance": []
  },
  "kernelspec": {
   "display_name": "Python 3",
   "language": "python",
   "name": "python3"
  },
  "language_info": {
   "codemirror_mode": {
    "name": "ipython",
    "version": 3
   },
   "file_extension": ".py",
   "mimetype": "text/x-python",
   "name": "python",
   "nbconvert_exporter": "python",
   "pygments_lexer": "ipython3",
   "version": "3.8.3"
  }
 },
 "nbformat": 4,
 "nbformat_minor": 1
}
